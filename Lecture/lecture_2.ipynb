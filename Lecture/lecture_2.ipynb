{
 "cells": [
  {
   "cell_type": "markdown",
   "metadata": {},
   "source": [
    "# Goal for Part 1: predicting solubility"
   ]
  },
  {
   "cell_type": "code",
   "execution_count": 8,
   "metadata": {},
   "outputs": [],
   "source": [
    "import pandas as pd"
   ]
  },
  {
   "cell_type": "code",
   "execution_count": 11,
   "metadata": {},
   "outputs": [],
   "source": [
    "data = pd.read_csv('../../Data/Solubility/dataset-E.csv')"
   ]
  },
  {
   "cell_type": "code",
   "execution_count": 12,
   "metadata": {},
   "outputs": [
    {
     "data": {
      "text/html": [
       "<div>\n",
       "<style scoped>\n",
       "    .dataframe tbody tr th:only-of-type {\n",
       "        vertical-align: middle;\n",
       "    }\n",
       "\n",
       "    .dataframe tbody tr th {\n",
       "        vertical-align: top;\n",
       "    }\n",
       "\n",
       "    .dataframe thead th {\n",
       "        text-align: right;\n",
       "    }\n",
       "</style>\n",
       "<table border=\"1\" class=\"dataframe\">\n",
       "  <thead>\n",
       "    <tr style=\"text-align: right;\">\n",
       "      <th></th>\n",
       "      <th>ID</th>\n",
       "      <th>Name</th>\n",
       "      <th>InChI</th>\n",
       "      <th>InChIKey</th>\n",
       "      <th>SMILES</th>\n",
       "      <th>Solubility</th>\n",
       "    </tr>\n",
       "  </thead>\n",
       "  <tbody>\n",
       "    <tr>\n",
       "      <th>0</th>\n",
       "      <td>E-1</td>\n",
       "      <td>n-pentane</td>\n",
       "      <td>InChI=1S/C5H12/c1-3-5-4-2/h3-5H2,1-2H3</td>\n",
       "      <td>OFBQJSOFQDEBGM-UHFFFAOYSA-N</td>\n",
       "      <td>CCCCC</td>\n",
       "      <td>-3.18</td>\n",
       "    </tr>\n",
       "    <tr>\n",
       "      <th>1</th>\n",
       "      <td>E-2</td>\n",
       "      <td>cyclopentane</td>\n",
       "      <td>InChI=1S/C5H10/c1-2-4-5-3-1/h1-5H2</td>\n",
       "      <td>RGSFGYAAUTVSQA-UHFFFAOYSA-N</td>\n",
       "      <td>C1CCCC1</td>\n",
       "      <td>-2.64</td>\n",
       "    </tr>\n",
       "    <tr>\n",
       "      <th>2</th>\n",
       "      <td>E-3</td>\n",
       "      <td>n-hexane</td>\n",
       "      <td>InChI=1S/C6H14/c1-3-5-6-4-2/h3-6H2,1-2H3</td>\n",
       "      <td>VLKZOEOYAKHREP-UHFFFAOYSA-N</td>\n",
       "      <td>CCCCCC</td>\n",
       "      <td>-3.84</td>\n",
       "    </tr>\n",
       "    <tr>\n",
       "      <th>3</th>\n",
       "      <td>E-4</td>\n",
       "      <td>2-methylpentane</td>\n",
       "      <td>InChI=1S/C6H14/c1-4-5-6(2)3/h6H,4-5H2,1-3H3</td>\n",
       "      <td>AFABGHUZZDYHJO-UHFFFAOYSA-N</td>\n",
       "      <td>CCCC(C)C</td>\n",
       "      <td>-3.74</td>\n",
       "    </tr>\n",
       "    <tr>\n",
       "      <th>4</th>\n",
       "      <td>E-5</td>\n",
       "      <td>2,2-dimethylbutane</td>\n",
       "      <td>InChI=1S/C6H14/c1-5-6(2,3)4/h5H2,1-4H3</td>\n",
       "      <td>HNRMPXKDFBEGFZ-UHFFFAOYSA-N</td>\n",
       "      <td>CCC(C)(C)C</td>\n",
       "      <td>-3.55</td>\n",
       "    </tr>\n",
       "    <tr>\n",
       "      <th>...</th>\n",
       "      <td>...</td>\n",
       "      <td>...</td>\n",
       "      <td>...</td>\n",
       "      <td>...</td>\n",
       "      <td>...</td>\n",
       "      <td>...</td>\n",
       "    </tr>\n",
       "    <tr>\n",
       "      <th>1286</th>\n",
       "      <td>E-1287</td>\n",
       "      <td>malathion</td>\n",
       "      <td>InChI=1S/C10H19O6PS2/c1-5-15-9(11)7-8(10(12)16...</td>\n",
       "      <td>JXSJBGJIGXNWCI-UHFFFAOYSA-N</td>\n",
       "      <td>CCOC(=O)CC(SP(=S)(OC)OC)C(=O)OCC</td>\n",
       "      <td>-3.37</td>\n",
       "    </tr>\n",
       "    <tr>\n",
       "      <th>1287</th>\n",
       "      <td>E-1288</td>\n",
       "      <td>chlorpyriphos</td>\n",
       "      <td>InChI=1S/C9H11Cl3NO3PS/c1-3-14-17(18,15-4-2)16...</td>\n",
       "      <td>SBPBAQFWLVIOKP-UHFFFAOYSA-N</td>\n",
       "      <td>CCOP(=S)(OCC)Oc1nc(Cl)c(Cl)cc1Cl</td>\n",
       "      <td>-5.49</td>\n",
       "    </tr>\n",
       "    <tr>\n",
       "      <th>1288</th>\n",
       "      <td>E-1289</td>\n",
       "      <td>prostaglandin_E2</td>\n",
       "      <td>InChI=1S/C20H32O5/c1-2-3-6-9-15(21)12-13-17-16...</td>\n",
       "      <td>XEYBRNLFEZDVAW-UHFFFAOYSA-N</td>\n",
       "      <td>CCCCCC(O)C=CC1C(O)CC(=O)C1CC=CCCCC(=O)O</td>\n",
       "      <td>-2.47</td>\n",
       "    </tr>\n",
       "    <tr>\n",
       "      <th>1289</th>\n",
       "      <td>E-1290</td>\n",
       "      <td>p,p'-DDT</td>\n",
       "      <td>InChI=1S/C14H9Cl5/c15-11-5-1-9(2-6-11)13(14(17...</td>\n",
       "      <td>YVGGHNCTFXOJCH-UHFFFAOYSA-N</td>\n",
       "      <td>c(ccc(c1)Cl)(c1)C(c(ccc(c2)Cl)c2)C(Cl)(Cl)Cl</td>\n",
       "      <td>-7.15</td>\n",
       "    </tr>\n",
       "    <tr>\n",
       "      <th>1290</th>\n",
       "      <td>E-1291</td>\n",
       "      <td>chlordane</td>\n",
       "      <td>InChI=1S/C10H6Cl8/c11-3-1-2-4(5(3)12)9(16)7(14...</td>\n",
       "      <td>BIWJNBZANLAXMG-UHFFFAOYSA-N</td>\n",
       "      <td>ClC1CC2C(C1Cl)C3(Cl)C(=C(Cl)C2(Cl)C3(Cl)Cl)Cl</td>\n",
       "      <td>-6.86</td>\n",
       "    </tr>\n",
       "  </tbody>\n",
       "</table>\n",
       "<p>1291 rows × 6 columns</p>\n",
       "</div>"
      ],
      "text/plain": [
       "          ID                Name  \\\n",
       "0        E-1           n-pentane   \n",
       "1        E-2        cyclopentane   \n",
       "2        E-3            n-hexane   \n",
       "3        E-4     2-methylpentane   \n",
       "4        E-5  2,2-dimethylbutane   \n",
       "...      ...                 ...   \n",
       "1286  E-1287           malathion   \n",
       "1287  E-1288       chlorpyriphos   \n",
       "1288  E-1289    prostaglandin_E2   \n",
       "1289  E-1290            p,p'-DDT   \n",
       "1290  E-1291           chlordane   \n",
       "\n",
       "                                                  InChI  \\\n",
       "0                InChI=1S/C5H12/c1-3-5-4-2/h3-5H2,1-2H3   \n",
       "1                    InChI=1S/C5H10/c1-2-4-5-3-1/h1-5H2   \n",
       "2              InChI=1S/C6H14/c1-3-5-6-4-2/h3-6H2,1-2H3   \n",
       "3           InChI=1S/C6H14/c1-4-5-6(2)3/h6H,4-5H2,1-3H3   \n",
       "4                InChI=1S/C6H14/c1-5-6(2,3)4/h5H2,1-4H3   \n",
       "...                                                 ...   \n",
       "1286  InChI=1S/C10H19O6PS2/c1-5-15-9(11)7-8(10(12)16...   \n",
       "1287  InChI=1S/C9H11Cl3NO3PS/c1-3-14-17(18,15-4-2)16...   \n",
       "1288  InChI=1S/C20H32O5/c1-2-3-6-9-15(21)12-13-17-16...   \n",
       "1289  InChI=1S/C14H9Cl5/c15-11-5-1-9(2-6-11)13(14(17...   \n",
       "1290  InChI=1S/C10H6Cl8/c11-3-1-2-4(5(3)12)9(16)7(14...   \n",
       "\n",
       "                         InChIKey  \\\n",
       "0     OFBQJSOFQDEBGM-UHFFFAOYSA-N   \n",
       "1     RGSFGYAAUTVSQA-UHFFFAOYSA-N   \n",
       "2     VLKZOEOYAKHREP-UHFFFAOYSA-N   \n",
       "3     AFABGHUZZDYHJO-UHFFFAOYSA-N   \n",
       "4     HNRMPXKDFBEGFZ-UHFFFAOYSA-N   \n",
       "...                           ...   \n",
       "1286  JXSJBGJIGXNWCI-UHFFFAOYSA-N   \n",
       "1287  SBPBAQFWLVIOKP-UHFFFAOYSA-N   \n",
       "1288  XEYBRNLFEZDVAW-UHFFFAOYSA-N   \n",
       "1289  YVGGHNCTFXOJCH-UHFFFAOYSA-N   \n",
       "1290  BIWJNBZANLAXMG-UHFFFAOYSA-N   \n",
       "\n",
       "                                             SMILES  Solubility  \n",
       "0                                             CCCCC       -3.18  \n",
       "1                                           C1CCCC1       -2.64  \n",
       "2                                            CCCCCC       -3.84  \n",
       "3                                          CCCC(C)C       -3.74  \n",
       "4                                        CCC(C)(C)C       -3.55  \n",
       "...                                             ...         ...  \n",
       "1286               CCOC(=O)CC(SP(=S)(OC)OC)C(=O)OCC       -3.37  \n",
       "1287               CCOP(=S)(OCC)Oc1nc(Cl)c(Cl)cc1Cl       -5.49  \n",
       "1288        CCCCCC(O)C=CC1C(O)CC(=O)C1CC=CCCCC(=O)O       -2.47  \n",
       "1289   c(ccc(c1)Cl)(c1)C(c(ccc(c2)Cl)c2)C(Cl)(Cl)Cl       -7.15  \n",
       "1290  ClC1CC2C(C1Cl)C3(Cl)C(=C(Cl)C2(Cl)C3(Cl)Cl)Cl       -6.86  \n",
       "\n",
       "[1291 rows x 6 columns]"
      ]
     },
     "execution_count": 12,
     "metadata": {},
     "output_type": "execute_result"
    }
   ],
   "source": [
    "data"
   ]
  },
  {
   "cell_type": "markdown",
   "metadata": {},
   "source": [
    "# Representation, SMILES, feature engineering"
   ]
  },
  {
   "cell_type": "code",
   "execution_count": 26,
   "metadata": {},
   "outputs": [],
   "source": [
    "data = data[['SMILES','Solubility']]"
   ]
  },
  {
   "cell_type": "code",
   "execution_count": 27,
   "metadata": {},
   "outputs": [
    {
     "data": {
      "text/html": [
       "<div>\n",
       "<style scoped>\n",
       "    .dataframe tbody tr th:only-of-type {\n",
       "        vertical-align: middle;\n",
       "    }\n",
       "\n",
       "    .dataframe tbody tr th {\n",
       "        vertical-align: top;\n",
       "    }\n",
       "\n",
       "    .dataframe thead th {\n",
       "        text-align: right;\n",
       "    }\n",
       "</style>\n",
       "<table border=\"1\" class=\"dataframe\">\n",
       "  <thead>\n",
       "    <tr style=\"text-align: right;\">\n",
       "      <th></th>\n",
       "      <th>SMILES</th>\n",
       "      <th>Solubility</th>\n",
       "    </tr>\n",
       "  </thead>\n",
       "  <tbody>\n",
       "    <tr>\n",
       "      <th>0</th>\n",
       "      <td>CCCCC</td>\n",
       "      <td>-3.18</td>\n",
       "    </tr>\n",
       "    <tr>\n",
       "      <th>1</th>\n",
       "      <td>C1CCCC1</td>\n",
       "      <td>-2.64</td>\n",
       "    </tr>\n",
       "    <tr>\n",
       "      <th>2</th>\n",
       "      <td>CCCCCC</td>\n",
       "      <td>-3.84</td>\n",
       "    </tr>\n",
       "    <tr>\n",
       "      <th>3</th>\n",
       "      <td>CCCC(C)C</td>\n",
       "      <td>-3.74</td>\n",
       "    </tr>\n",
       "    <tr>\n",
       "      <th>4</th>\n",
       "      <td>CCC(C)(C)C</td>\n",
       "      <td>-3.55</td>\n",
       "    </tr>\n",
       "    <tr>\n",
       "      <th>...</th>\n",
       "      <td>...</td>\n",
       "      <td>...</td>\n",
       "    </tr>\n",
       "    <tr>\n",
       "      <th>1286</th>\n",
       "      <td>CCOC(=O)CC(SP(=S)(OC)OC)C(=O)OCC</td>\n",
       "      <td>-3.37</td>\n",
       "    </tr>\n",
       "    <tr>\n",
       "      <th>1287</th>\n",
       "      <td>CCOP(=S)(OCC)Oc1nc(Cl)c(Cl)cc1Cl</td>\n",
       "      <td>-5.49</td>\n",
       "    </tr>\n",
       "    <tr>\n",
       "      <th>1288</th>\n",
       "      <td>CCCCCC(O)C=CC1C(O)CC(=O)C1CC=CCCCC(=O)O</td>\n",
       "      <td>-2.47</td>\n",
       "    </tr>\n",
       "    <tr>\n",
       "      <th>1289</th>\n",
       "      <td>c(ccc(c1)Cl)(c1)C(c(ccc(c2)Cl)c2)C(Cl)(Cl)Cl</td>\n",
       "      <td>-7.15</td>\n",
       "    </tr>\n",
       "    <tr>\n",
       "      <th>1290</th>\n",
       "      <td>ClC1CC2C(C1Cl)C3(Cl)C(=C(Cl)C2(Cl)C3(Cl)Cl)Cl</td>\n",
       "      <td>-6.86</td>\n",
       "    </tr>\n",
       "  </tbody>\n",
       "</table>\n",
       "<p>1291 rows × 2 columns</p>\n",
       "</div>"
      ],
      "text/plain": [
       "                                             SMILES  Solubility\n",
       "0                                             CCCCC       -3.18\n",
       "1                                           C1CCCC1       -2.64\n",
       "2                                            CCCCCC       -3.84\n",
       "3                                          CCCC(C)C       -3.74\n",
       "4                                        CCC(C)(C)C       -3.55\n",
       "...                                             ...         ...\n",
       "1286               CCOC(=O)CC(SP(=S)(OC)OC)C(=O)OCC       -3.37\n",
       "1287               CCOP(=S)(OCC)Oc1nc(Cl)c(Cl)cc1Cl       -5.49\n",
       "1288        CCCCCC(O)C=CC1C(O)CC(=O)C1CC=CCCCC(=O)O       -2.47\n",
       "1289   c(ccc(c1)Cl)(c1)C(c(ccc(c2)Cl)c2)C(Cl)(Cl)Cl       -7.15\n",
       "1290  ClC1CC2C(C1Cl)C3(Cl)C(=C(Cl)C2(Cl)C3(Cl)Cl)Cl       -6.86\n",
       "\n",
       "[1291 rows x 2 columns]"
      ]
     },
     "execution_count": 27,
     "metadata": {},
     "output_type": "execute_result"
    }
   ],
   "source": [
    "data"
   ]
  },
  {
   "cell_type": "code",
   "execution_count": 14,
   "metadata": {},
   "outputs": [],
   "source": [
    "from rdkit import Chem"
   ]
  },
  {
   "cell_type": "code",
   "execution_count": 15,
   "metadata": {},
   "outputs": [],
   "source": [
    "n_pentane = Chem.MolFromSmiles(data['SMILES'][0])"
   ]
  },
  {
   "cell_type": "code",
   "execution_count": 16,
   "metadata": {},
   "outputs": [
    {
     "data": {
      "image/png": "[encoded data removed]",
      "text/plain": [
       "<rdkit.Chem.rdchem.Mol at 0x7f2f1acd2850>"
      ]
     },
     "execution_count": 16,
     "metadata": {},
     "output_type": "execute_result"
    }
   ],
   "source": [
    "n_pentane"
   ]
  },
  {
   "cell_type": "code",
   "execution_count": 17,
   "metadata": {},
   "outputs": [],
   "source": [
    "n_pentane = Chem.AddHs(n_pentane)"
   ]
  },
  {
   "cell_type": "code",
   "execution_count": 18,
   "metadata": {},
   "outputs": [
    {
     "data": {
      "image/png": "[encoded data removed]",
      "text/plain": [
       "<rdkit.Chem.rdchem.Mol at 0x7f2f1acd2e40>"
      ]
     },
     "execution_count": 18,
     "metadata": {},
     "output_type": "execute_result"
    }
   ],
   "source": [
    "n_pentane"
   ]
  },
  {
   "cell_type": "code",
   "execution_count": 19,
   "metadata": {},
   "outputs": [],
   "source": [
    "from mordred import Calculator, descriptors"
   ]
  },
  {
   "cell_type": "code",
   "execution_count": 20,
   "metadata": {},
   "outputs": [],
   "source": [
    "featurizer = Calculator() "
   ]
  },
  {
   "cell_type": "markdown",
   "metadata": {},
   "source": [
    "http://mordred-descriptor.github.io/documentation/v1.1.1/descriptors.html"
   ]
  },
  {
   "cell_type": "code",
   "execution_count": 21,
   "metadata": {},
   "outputs": [],
   "source": [
    "from mordred.AtomCount import *"
   ]
  },
  {
   "cell_type": "code",
   "execution_count": 22,
   "metadata": {},
   "outputs": [],
   "source": [
    "from mordred.Aromatic import *"
   ]
  },
  {
   "cell_type": "code",
   "execution_count": 23,
   "metadata": {},
   "outputs": [],
   "source": [
    "from mordred.TopologicalIndex import *"
   ]
  },
  {
   "cell_type": "code",
   "execution_count": 24,
   "metadata": {},
   "outputs": [],
   "source": [
    "featurizer.register([AtomCount(\"C\"),AtomCount(\"H\"),AromaticBondsCount(),Diameter()])"
   ]
  },
  {
   "cell_type": "code",
   "execution_count": 25,
   "metadata": {},
   "outputs": [
    {
     "data": {
      "text/plain": [
       "Result(<rdkit.Chem.rdchem.Mol object at 0x7f2f1acd2e40>,[5, 12, 0, 4],[mordred.AtomCount.AtomCount('C'), mordred.AtomCount.AtomCount('H'), mordred.Aromatic.AromaticBondsCount(), mordred.TopologicalIndex.Diameter()])"
      ]
     },
     "execution_count": 25,
     "metadata": {},
     "output_type": "execute_result"
    }
   ],
   "source": [
    "featurizer(n_pentane)"
   ]
  },
  {
   "cell_type": "code",
   "execution_count": 17,
   "metadata": {},
   "outputs": [],
   "source": [
    "def create_molecule(smiles):\n",
    "    return Chem.MolFromSmiles(smiles)"
   ]
  },
  {
   "cell_type": "code",
   "execution_count": 18,
   "metadata": {},
   "outputs": [],
   "source": [
    "data_rdkit = data['SMILES'].apply(create_molecule)"
   ]
  },
  {
   "cell_type": "code",
   "execution_count": 19,
   "metadata": {},
   "outputs": [
    {
     "data": {
      "text/plain": [
       "0       <rdkit.Chem.rdchem.Mol object at 0x1325530a0>\n",
       "1       <rdkit.Chem.rdchem.Mol object at 0x132553100>\n",
       "2       <rdkit.Chem.rdchem.Mol object at 0x132553160>\n",
       "3       <rdkit.Chem.rdchem.Mol object at 0x1325531c0>\n",
       "4       <rdkit.Chem.rdchem.Mol object at 0x132553220>\n",
       "                            ...                      \n",
       "1286    <rdkit.Chem.rdchem.Mol object at 0x1325728e0>\n",
       "1287    <rdkit.Chem.rdchem.Mol object at 0x132572940>\n",
       "1288    <rdkit.Chem.rdchem.Mol object at 0x1325729a0>\n",
       "1289    <rdkit.Chem.rdchem.Mol object at 0x132572a00>\n",
       "1290    <rdkit.Chem.rdchem.Mol object at 0x132572a60>\n",
       "Name: SMILES, Length: 1291, dtype: object"
      ]
     },
     "execution_count": 19,
     "metadata": {},
     "output_type": "execute_result"
    }
   ],
   "source": [
    "data_rdkit"
   ]
  },
  {
   "cell_type": "code",
   "execution_count": 20,
   "metadata": {},
   "outputs": [
    {
     "name": "stderr",
     "output_type": "stream",
     "text": [
      "100%|██████████| 1291/1291 [00:01<00:00, 1131.78it/s]\n"
     ]
    }
   ],
   "source": [
    "dataf = featurizer.pandas(data_rdkit)"
   ]
  },
  {
   "cell_type": "code",
   "execution_count": 21,
   "metadata": {},
   "outputs": [
    {
     "data": {
      "text/html": [
       "<div>\n",
       "<style scoped>\n",
       "    .dataframe tbody tr th:only-of-type {\n",
       "        vertical-align: middle;\n",
       "    }\n",
       "\n",
       "    .dataframe tbody tr th {\n",
       "        vertical-align: top;\n",
       "    }\n",
       "\n",
       "    .dataframe thead th {\n",
       "        text-align: right;\n",
       "    }\n",
       "</style>\n",
       "<table border=\"1\" class=\"dataframe\">\n",
       "  <thead>\n",
       "    <tr style=\"text-align: right;\">\n",
       "      <th></th>\n",
       "      <th>nC</th>\n",
       "      <th>nH</th>\n",
       "      <th>nAromBond</th>\n",
       "      <th>Diameter</th>\n",
       "    </tr>\n",
       "  </thead>\n",
       "  <tbody>\n",
       "    <tr>\n",
       "      <th>0</th>\n",
       "      <td>5</td>\n",
       "      <td>12</td>\n",
       "      <td>0</td>\n",
       "      <td>4</td>\n",
       "    </tr>\n",
       "    <tr>\n",
       "      <th>1</th>\n",
       "      <td>5</td>\n",
       "      <td>10</td>\n",
       "      <td>0</td>\n",
       "      <td>2</td>\n",
       "    </tr>\n",
       "    <tr>\n",
       "      <th>2</th>\n",
       "      <td>6</td>\n",
       "      <td>14</td>\n",
       "      <td>0</td>\n",
       "      <td>5</td>\n",
       "    </tr>\n",
       "    <tr>\n",
       "      <th>3</th>\n",
       "      <td>6</td>\n",
       "      <td>14</td>\n",
       "      <td>0</td>\n",
       "      <td>4</td>\n",
       "    </tr>\n",
       "    <tr>\n",
       "      <th>4</th>\n",
       "      <td>6</td>\n",
       "      <td>14</td>\n",
       "      <td>0</td>\n",
       "      <td>3</td>\n",
       "    </tr>\n",
       "    <tr>\n",
       "      <th>...</th>\n",
       "      <td>...</td>\n",
       "      <td>...</td>\n",
       "      <td>...</td>\n",
       "      <td>...</td>\n",
       "    </tr>\n",
       "    <tr>\n",
       "      <th>1286</th>\n",
       "      <td>10</td>\n",
       "      <td>19</td>\n",
       "      <td>0</td>\n",
       "      <td>9</td>\n",
       "    </tr>\n",
       "    <tr>\n",
       "      <th>1287</th>\n",
       "      <td>9</td>\n",
       "      <td>11</td>\n",
       "      <td>6</td>\n",
       "      <td>9</td>\n",
       "    </tr>\n",
       "    <tr>\n",
       "      <th>1288</th>\n",
       "      <td>20</td>\n",
       "      <td>32</td>\n",
       "      <td>0</td>\n",
       "      <td>17</td>\n",
       "    </tr>\n",
       "    <tr>\n",
       "      <th>1289</th>\n",
       "      <td>14</td>\n",
       "      <td>9</td>\n",
       "      <td>12</td>\n",
       "      <td>10</td>\n",
       "    </tr>\n",
       "    <tr>\n",
       "      <th>1290</th>\n",
       "      <td>10</td>\n",
       "      <td>6</td>\n",
       "      <td>0</td>\n",
       "      <td>6</td>\n",
       "    </tr>\n",
       "  </tbody>\n",
       "</table>\n",
       "<p>1291 rows × 4 columns</p>\n",
       "</div>"
      ],
      "text/plain": [
       "      nC  nH  nAromBond  Diameter\n",
       "0      5  12          0         4\n",
       "1      5  10          0         2\n",
       "2      6  14          0         5\n",
       "3      6  14          0         4\n",
       "4      6  14          0         3\n",
       "...   ..  ..        ...       ...\n",
       "1286  10  19          0         9\n",
       "1287   9  11          6         9\n",
       "1288  20  32          0        17\n",
       "1289  14   9         12        10\n",
       "1290  10   6          0         6\n",
       "\n",
       "[1291 rows x 4 columns]"
      ]
     },
     "execution_count": 21,
     "metadata": {},
     "output_type": "execute_result"
    }
   ],
   "source": [
    "dataf"
   ]
  },
  {
   "cell_type": "markdown",
   "metadata": {},
   "source": [
    "# Choosing features, correlation"
   ]
  },
  {
   "cell_type": "code",
   "execution_count": 22,
   "metadata": {},
   "outputs": [
    {
     "data": {
      "text/plain": [
       "nC          -0.591717\n",
       "nH          -0.205642\n",
       "nAromBond   -0.505360\n",
       "Diameter    -0.038753\n",
       "dtype: float64"
      ]
     },
     "execution_count": 22,
     "metadata": {},
     "output_type": "execute_result"
    }
   ],
   "source": [
    "dataf.corrwith(data['Solubility'])"
   ]
  },
  {
   "cell_type": "code",
   "execution_count": 23,
   "metadata": {},
   "outputs": [],
   "source": [
    "import matplotlib.pyplot as plt"
   ]
  },
  {
   "cell_type": "code",
   "execution_count": 24,
   "metadata": {},
   "outputs": [
    {
     "data": {
      "text/plain": [
       "<matplotlib.collections.PathCollection at 0x13321ffa0>"
      ]
     },
     "execution_count": 24,
     "metadata": {},
     "output_type": "execute_result"
    },
    {
     "data": {
      "image/png": "[encoded data removed]",
      "text/plain": [
       "<Figure size 432x288 with 1 Axes>"
      ]
     },
     "metadata": {
      "needs_background": "light"
     },
     "output_type": "display_data"
    }
   ],
   "source": [
    "plt.scatter(dataf['nC'],data['Solubility'])"
   ]
  },
  {
   "cell_type": "code",
   "execution_count": 25,
   "metadata": {},
   "outputs": [],
   "source": [
    "import seaborn as sns"
   ]
  },
  {
   "cell_type": "code",
   "execution_count": 26,
   "metadata": {},
   "outputs": [
    {
     "data": {
      "text/plain": [
       "<AxesSubplot:>"
      ]
     },
     "execution_count": 26,
     "metadata": {},
     "output_type": "execute_result"
    },
    {
     "data": {
      "image/png": "[encoded data removed]",
      "text/plain": [
       "<Figure size 432x288 with 2 Axes>"
      ]
     },
     "metadata": {
      "needs_background": "light"
     },
     "output_type": "display_data"
    }
   ],
   "source": [
    "sns.heatmap(dataf.corr())"
   ]
  },
  {
   "cell_type": "code",
   "execution_count": null,
   "metadata": {},
   "outputs": [],
   "source": []
  }
 ],
 "metadata": {
  "kernelspec": {
   "display_name": "Python 3",
   "language": "python",
   "name": "python3"
  },
  "language_info": {
   "codemirror_mode": {
    "name": "ipython",
    "version": 3
   },
   "file_extension": ".py",
   "mimetype": "text/x-python",
   "name": "python",
   "nbconvert_exporter": "python",
   "pygments_lexer": "ipython3",
   "version": "3.8.6"
  }
 },
 "nbformat": 4,
 "nbformat_minor": 4
}
