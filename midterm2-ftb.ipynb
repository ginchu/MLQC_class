{
 "cells": [
  {
   "cell_type": "markdown",
   "metadata": {},
   "source": [
    "**Note: You are not allowed to import anything**"
   ]
  },
  {
   "cell_type": "code",
   "execution_count": 1,
   "metadata": {},
   "outputs": [],
   "source": [
    "from sklearn.datasets import load_boston"
   ]
  },
  {
   "cell_type": "code",
   "execution_count": 2,
   "metadata": {},
   "outputs": [],
   "source": [
    "X, Y = load_boston(return_X_y=True)"
   ]
  },
  {
   "cell_type": "markdown",
   "metadata": {},
   "source": [
    "## Question 1"
   ]
  },
  {
   "cell_type": "markdown",
   "metadata": {},
   "source": [
    "In this question, you are allowed to use the following (and **only** the following):"
   ]
  },
  {
   "cell_type": "code",
   "execution_count": 6,
   "metadata": {},
   "outputs": [],
   "source": [
    "from torch import tensor\n",
    "from torch import double\n",
    "from torch import no_grad\n",
    "from torch import randn"
   ]
  },
  {
   "cell_type": "code",
   "execution_count": 109,
   "metadata": {},
   "outputs": [],
   "source": [
    "def gd_autodiff(X,Y):\n",
    "    X = tensor(X,dtype=double)\n",
    "    Y = tensor(Y,dtype=double)\n",
    "    r = randn(X.shape[1])\n",
    "    w = tensor(r, requires_grad=True, dtype=double)\n",
    "    for i in range(100):\n",
    "        y_pred = X @ w\n",
    "        loss = ((y_pred-Y)**2).mean()\n",
    "        loss.backward()\n",
    "        with no_grad():\n",
    "            w -= 0.000000001 * w.grad\n",
    "            w.grad = None\n",
    "    return w"
   ]
  },
  {
   "cell_type": "code",
   "execution_count": 110,
   "metadata": {},
   "outputs": [
    {
     "name": "stderr",
     "output_type": "stream",
     "text": [
      "<ipython-input-109-96a1ace10431>:5: UserWarning: To copy construct from a tensor, it is recommended to use sourceTensor.clone().detach() or sourceTensor.clone().detach().requires_grad_(True), rather than torch.tensor(sourceTensor).\n",
      "  w = tensor(r, requires_grad=True, dtype=double)\n"
     ]
    },
    {
     "data": {
      "text/plain": [
       "tensor([ 0.2176, -0.5702, -1.4016, -0.2370, -0.6611, -0.6795,  0.2558,  0.0598,\n",
       "         0.4026,  2.0928, -0.2083, -0.1909, -1.3977], dtype=torch.float64,\n",
       "       requires_grad=True)"
      ]
     },
     "execution_count": 110,
     "metadata": {},
     "output_type": "execute_result"
    }
   ],
   "source": [
    "gd_autodiff(X,Y)"
   ]
  },
  {
   "cell_type": "markdown",
   "metadata": {},
   "source": [
    "## Question 2"
   ]
  },
  {
   "cell_type": "markdown",
   "metadata": {},
   "source": [
    "In this question, you are allowed to use the following (and **only** the following):"
   ]
  },
  {
   "cell_type": "code",
   "execution_count": 111,
   "metadata": {},
   "outputs": [],
   "source": [
    "from torch.nn import Module\n",
    "from torch.nn import Linear\n",
    "from torch.optim import Adam\n",
    "from torch import float"
   ]
  },
  {
   "cell_type": "code",
   "execution_count": 124,
   "metadata": {},
   "outputs": [],
   "source": [
    "class Model(Module):\n",
    "    def __init__(self,size):\n",
    "        super(Model, self).__init__()\n",
    "        self.layers = Linear(size, 1)\n",
    "        \n",
    "    def forward(self, x):       \n",
    "        return self.layers(x)"
   ]
  },
  {
   "cell_type": "code",
   "execution_count": 125,
   "metadata": {},
   "outputs": [],
   "source": [
    "model = Model(X.shape[1])"
   ]
  },
  {
   "cell_type": "code",
   "execution_count": 128,
   "metadata": {},
   "outputs": [],
   "source": [
    "def train(epochs,X,Y):\n",
    "    X = tensor(X,dtype=float)\n",
    "    Y = tensor(Y,dtype=float) \n",
    "    optimizer = Adam(model.parameters(), lr=0.01)\n",
    "    loss = 0.\n",
    "    for epoch in range(epochs):\n",
    "        y_pred = model(X)\n",
    "        mse = ((y_pred-Y)**2).sum()\n",
    "        loss += mse.item()\n",
    "    loss /= epochs\n",
    "    print(loss)"
   ]
  },
  {
   "cell_type": "code",
   "execution_count": 129,
   "metadata": {},
   "outputs": [
    {
     "name": "stdout",
     "output_type": "stream",
     "text": [
      "540448384.0\n"
     ]
    }
   ],
   "source": [
    "train(1000,X,Y)"
   ]
  },
  {
   "cell_type": "markdown",
   "metadata": {},
   "source": [
    "## Question 4"
   ]
  },
  {
   "cell_type": "markdown",
   "metadata": {},
   "source": [
    "In this question, you are allowed to use the following (and **only** the following):"
   ]
  },
  {
   "cell_type": "code",
   "execution_count": 11,
   "metadata": {},
   "outputs": [],
   "source": [
    "from numpy import array\n",
    "from numpy.random import randn"
   ]
  },
  {
   "cell_type": "code",
   "execution_count": 74,
   "metadata": {},
   "outputs": [],
   "source": [
    "def gradient(X,Y,w):\n",
    "    return 2 * (X.T).dot(X).dot(w) - 2 * (X.T).dot(Y) + w"
   ]
  },
  {
   "cell_type": "code",
   "execution_count": 75,
   "metadata": {},
   "outputs": [],
   "source": [
    "def gd(X,y):\n",
    "    for i in range(100):\n",
    "        w = randn(X.shape[1]).numpy()\n",
    "        grad = gradient(X,Y,w)\n",
    "        w -= 0.0000000001 * grad\n",
    "    return w"
   ]
  },
  {
   "cell_type": "code",
   "execution_count": 76,
   "metadata": {},
   "outputs": [
    {
     "data": {
      "text/plain": [
       "array([-0.17203723,  0.859352  , -0.25830615, -0.38389775, -2.7938263 ,\n",
       "        1.3696427 , -1.6258707 , -1.0479311 , -0.7960658 , -0.43121383,\n",
       "        0.04332872,  2.041495  , -0.08887727], dtype=float32)"
      ]
     },
     "execution_count": 76,
     "metadata": {},
     "output_type": "execute_result"
    }
   ],
   "source": [
    "gd(X,Y)"
   ]
  },
  {
   "cell_type": "code",
   "execution_count": null,
   "metadata": {},
   "outputs": [],
   "source": []
  }
 ],
 "metadata": {
  "kernelspec": {
   "display_name": "Python 3",
   "language": "python",
   "name": "python3"
  },
  "language_info": {
   "codemirror_mode": {
    "name": "ipython",
    "version": 3
   },
   "file_extension": ".py",
   "mimetype": "text/x-python",
   "name": "python",
   "nbconvert_exporter": "python",
   "pygments_lexer": "ipython3",
   "version": "3.8.6"
  }
 },
 "nbformat": 4,
 "nbformat_minor": 4
}
