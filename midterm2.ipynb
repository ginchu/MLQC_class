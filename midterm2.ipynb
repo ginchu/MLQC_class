{
 "cells": [
  {
   "cell_type": "markdown",
   "metadata": {},
   "source": [
    "**Note: You are not allowed to import anything**"
   ]
  },
  {
   "cell_type": "code",
   "execution_count": 1,
   "metadata": {},
   "outputs": [],
   "source": [
    "from sklearn.datasets import load_boston"
   ]
  },
  {
   "cell_type": "code",
   "execution_count": 2,
   "metadata": {},
   "outputs": [],
   "source": [
    "X, Y = load_boston(return_X_y=True)"
   ]
  },
  {
   "cell_type": "markdown",
   "metadata": {},
   "source": [
    "## Question 1"
   ]
  },
  {
   "cell_type": "markdown",
   "metadata": {},
   "source": [
    "In this question, you are allowed to use the following (and **only** the following):"
   ]
  },
  {
   "cell_type": "code",
   "execution_count": 3,
   "metadata": {},
   "outputs": [],
   "source": [
    "from torch import tensor\n",
    "from torch import double\n",
    "from torch import no_grad\n",
    "from torch import randn"
   ]
  },
  {
   "cell_type": "code",
   "execution_count": 4,
   "metadata": {},
   "outputs": [],
   "source": [
    "def gd_autodiff(X,Y):\n",
    "    X = tensor(X,dtype=double)\n",
    "    Y = tensor(Y,dtype=double)\n",
    "    w = randn(X.shape[1],requires_grad=True, dtype=double)\n",
    "    for i in range(10000):\n",
    "        prediction = X @ w\n",
    "        error = ((prediction - Y)**2).mean()\n",
    "        error.backward()\n",
    "        with no_grad():\n",
    "            w -= 0.000000001 * w.grad\n",
    "            w.grad = None\n",
    "    return w"
   ]
  },
  {
   "cell_type": "code",
   "execution_count": 5,
   "metadata": {},
   "outputs": [
    {
     "data": {
      "text/plain": [
       "tensor([-1.7284, -0.5383, -0.4572, -0.8040,  0.3975,  0.2155, -1.0222, -0.3056,\n",
       "         0.8300,  0.1989,  0.2995,  0.0166,  0.2986], dtype=torch.float64,\n",
       "       requires_grad=True)"
      ]
     },
     "execution_count": 5,
     "metadata": {},
     "output_type": "execute_result"
    }
   ],
   "source": [
    "gd_autodiff(X,Y)"
   ]
  },
  {
   "cell_type": "markdown",
   "metadata": {},
   "source": [
    "## Question 2"
   ]
  },
  {
   "cell_type": "markdown",
   "metadata": {},
   "source": [
    "In this question, you are allowed to use the following (and **only** the following):"
   ]
  },
  {
   "cell_type": "code",
   "execution_count": 6,
   "metadata": {},
   "outputs": [],
   "source": [
    "from torch.nn import Module\n",
    "from torch.nn import Linear\n",
    "from torch.optim import Adam\n",
    "from torch import float"
   ]
  },
  {
   "cell_type": "code",
   "execution_count": 7,
   "metadata": {},
   "outputs": [],
   "source": [
    "class Model(Module):\n",
    "    def __init__(self,size):\n",
    "        super(Model, self).__init__()\n",
    "        self.f = Linear(size,1)\n",
    "        \n",
    "    def forward(self,x):\n",
    "        return self.f(x)"
   ]
  },
  {
   "cell_type": "code",
   "execution_count": 8,
   "metadata": {},
   "outputs": [],
   "source": [
    "model = Model(X.shape[1])"
   ]
  },
  {
   "cell_type": "code",
   "execution_count": 9,
   "metadata": {},
   "outputs": [],
   "source": [
    "def train(epochs,X,Y):\n",
    "        \n",
    "    X = tensor(X,dtype=float)\n",
    "    Y = tensor(Y,dtype=float)    \n",
    "        \n",
    "    optimizer = Adam(model.parameters(),lr=0.01)\n",
    "    \n",
    "    for epoch in range(epochs):\n",
    "        \n",
    "        optimizer.zero_grad()\n",
    "        y_pred = model(X).reshape(1,-1)\n",
    "        mse = ((y_pred - Y)**2).mean()\n",
    "        mse.backward()\n",
    "        optimizer.step()"
   ]
  },
  {
   "cell_type": "code",
   "execution_count": 10,
   "metadata": {},
   "outputs": [],
   "source": [
    "train(1000,X,Y)"
   ]
  },
  {
   "cell_type": "markdown",
   "metadata": {},
   "source": [
    "## Question 4"
   ]
  },
  {
   "cell_type": "markdown",
   "metadata": {},
   "source": [
    "In this question, you are allowed to use the following (and **only** the following):"
   ]
  },
  {
   "cell_type": "code",
   "execution_count": 11,
   "metadata": {},
   "outputs": [],
   "source": [
    "from numpy import array\n",
    "from numpy.random import randn"
   ]
  },
  {
   "cell_type": "code",
   "execution_count": 12,
   "metadata": {},
   "outputs": [],
   "source": [
    "def gradient(X,Y,w):\n",
    "    return -2 * X.T @ Y + 2 * X.T @ X @ w + 2 * w"
   ]
  },
  {
   "cell_type": "code",
   "execution_count": 13,
   "metadata": {},
   "outputs": [],
   "source": [
    "def gd(X,y):\n",
    "    w = randn(X.shape[1])\n",
    "    for i in range(1000):\n",
    "        g = gradient(X,Y,w)\n",
    "        w -= 0.0000000001 * g\n",
    "     \n",
    "    return w"
   ]
  },
  {
   "cell_type": "code",
   "execution_count": 14,
   "metadata": {},
   "outputs": [
    {
     "data": {
      "text/plain": [
       "array([-2.21128341,  1.26535423, -0.41980729,  0.20459792,  1.39767662,\n",
       "       -0.19795727,  0.29300587, -0.5645373 ,  0.27229783,  0.05596479,\n",
       "        0.48085732, -0.14854216,  1.64918177])"
      ]
     },
     "execution_count": 14,
     "metadata": {},
     "output_type": "execute_result"
    }
   ],
   "source": [
    "gd(X,Y)"
   ]
  },
  {
   "cell_type": "code",
   "execution_count": null,
   "metadata": {},
   "outputs": [],
   "source": []
  }
 ],
 "metadata": {
  "kernelspec": {
   "display_name": "Python 3",
   "language": "python",
   "name": "python3"
  },
  "language_info": {
   "codemirror_mode": {
    "name": "ipython",
    "version": 3
   },
   "file_extension": ".py",
   "mimetype": "text/x-python",
   "name": "python",
   "nbconvert_exporter": "python",
   "pygments_lexer": "ipython3",
   "version": "3.8.6"
  }
 },
 "nbformat": 4,
 "nbformat_minor": 4
}
