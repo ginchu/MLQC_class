{
 "cells": [
  {
   "cell_type": "markdown",
   "metadata": {},
   "source": [
    "# Homework 2: Machine Learning, Feature Engineering, validation"
   ]
  },
  {
   "cell_type": "markdown",
   "metadata": {},
   "source": [
    "These are the libraries you are allowed to use today. Do not add any library."
   ]
  },
  {
   "cell_type": "code",
   "execution_count": 8,
   "metadata": {},
   "outputs": [],
   "source": [
    "import pandas as pd\n",
    "import matplotlib.pyplot as plt\n",
    "import numpy as np\n",
    "from sklearn.linear_model import LinearRegression\n",
    "from sklearn.preprocessing import PolynomialFeatures"
   ]
  },
  {
   "cell_type": "markdown",
   "metadata": {},
   "source": [
    "**Problem 1:** First, use the code from last week to prepare two datasets. One will serve as a training set, while the other will serve as a test set. For the test, make sure that you use dataset E. For the train set, it could be anything but E. Note: depending on whether you already split the features from the targets, you might have to load 2 or 4 csv files. Either is fine."
   ]
  },
  {
   "cell_type": "code",
   "execution_count": 2,
   "metadata": {},
   "outputs": [
    {
     "name": "stderr",
     "output_type": "stream",
     "text": [
      "100%|██████████| 1210/1210 [00:03<00:00, 390.47it/s]\n",
      "100%|██████████| 1291/1291 [00:03<00:00, 388.48it/s]\n"
     ]
    }
   ],
   "source": [
    "%run ../hw1/hw1_revise.ipynb"
   ]
  },
  {
   "cell_type": "code",
   "execution_count": 10,
   "metadata": {},
   "outputs": [],
   "source": [
    "X_train = np.array(pd.read_csv('./train/features.csv'))\n",
    "y_train = np.array(pd.read_csv('./train/solubility.csv'))\n",
    "X_test = np.array(pd.read_csv('./test/features.csv'))\n",
    "y_test = np.array(pd.read_csv('./test/solubility.csv'))"
   ]
  },
  {
   "cell_type": "markdown",
   "metadata": {},
   "source": [
    "**Problem 2:** Define the following function.<br>\n",
    "*Input:* Two numpy arrays $a$ and $b$ of same length, say $n$. One is meant to contain predicted values, the other ground truth values.<br>\n",
    "*Output:* The mean absolute value of the two arrays.\n",
    "$$\n",
    "\\sum_{i=1}^n \\frac{|a_i - b_i|}{n}\n",
    "$$"
   ]
  },
  {
   "cell_type": "code",
   "execution_count": 11,
   "metadata": {},
   "outputs": [],
   "source": [
    "def mean_absolute_error(y_truth,y_pred):\n",
    "    mae = np.sum(abs(np.array(y_truth) - np.array(y_pred)))/len(y_truth)\n",
    "    return mae"
   ]
  },
  {
   "cell_type": "markdown",
   "metadata": {},
   "source": [
    "**Problem 3:** Implement a function that fits a linear regression and compute train and test loss.<br>\n",
    "*Input:* 4 datasets: training and testing features, training and testing target.<br>\n",
    "*Output:* mean absolute error of a linear regression for both the train set and the test set.<br>\n",
    "*Hint:* you need to make use of the fundamental methods of an sklearn model: fit and predict."
   ]
  },
  {
   "cell_type": "code",
   "execution_count": 12,
   "metadata": {},
   "outputs": [],
   "source": [
    "def ml(X_train,y_train,X_test,y_test):\n",
    "    model = LinearRegression()\n",
    "    model.fit(X_train, y_train)\n",
    "    x_pred = model.predict(X_train)\n",
    "    y_pred = model.predict(X_test)\n",
    "    train_mae = mean_absolute_error(y_train, x_pred)\n",
    "    test_mae = mean_absolute_error(y_test, y_pred)\n",
    "    return train_mae, test_mae"
   ]
  },
  {
   "cell_type": "markdown",
   "metadata": {},
   "source": [
    "**Problem 4:** Implement a function that transforms the feature set (train and test) into multiple feature sets, one per polynomial degree<br>\n",
    "*Input:* training feature set, testing feature set, list of degrees<br>\n",
    "*Output:* two lists. The first list contains the transform of the training feature set for the different degrees, the second list is the same for the testing feature set."
   ]
  },
  {
   "cell_type": "code",
   "execution_count": 13,
   "metadata": {},
   "outputs": [],
   "source": [
    "def engineer(X_train,X_test,degrees):\n",
    "    train_transform = []\n",
    "    test_transform = []\n",
    "    for i in degrees:\n",
    "        poly = PolynomialFeatures(i)\n",
    "        train_transform.append(poly.fit_transform(X_train))\n",
    "        test_transform.append(poly.fit_transform(X_test))\n",
    "    return train_transform, test_transform"
   ]
  },
  {
   "cell_type": "code",
   "execution_count": 14,
   "metadata": {},
   "outputs": [],
   "source": [
    "degrees = [1,2,3,4]"
   ]
  },
  {
   "cell_type": "code",
   "execution_count": 15,
   "metadata": {},
   "outputs": [],
   "source": [
    "X_train_l, X_test_l = engineer(X_train,X_test,degrees)"
   ]
  },
  {
   "cell_type": "markdown",
   "metadata": {},
   "source": [
    "**Problem 5:** Implement a function that plots a validation curve.<br>\n",
    "*Input:* list of training features, training targets, list of testing features, testing target<br>\n",
    "*Output:* none. The function should plot the validation curve. Abcissa: degree, ordinate: mean absolute error for both train and test."
   ]
  },
  {
   "cell_type": "code",
   "execution_count": 16,
   "metadata": {},
   "outputs": [],
   "source": [
    "def validation_curve(X_train_l,y_train,X_test_l,y_test):\n",
    "    all_train_mae = [] \n",
    "    all_test_mae = []\n",
    "    for i in range(len(X_train_l)):\n",
    "        tr_mae, ts_mae = ml(X_train_l[i],y_train,X_test_l[i],y_test)\n",
    "        all_train_mae.append(tr_mae)\n",
    "        all_test_mae.append(ts_mae)\n",
    "    \n",
    "    plt.plot(degrees,all_train_mae,label='train loss')\n",
    "    plt.plot(degrees,all_test_mae,label='test loss')\n",
    "    plt.legend()\n",
    "    pass"
   ]
  },
  {
   "cell_type": "code",
   "execution_count": 17,
   "metadata": {},
   "outputs": [
    {
     "data": {
      "image/png": "[encoded data removed]",
      "text/plain": [
       "<Figure size 432x288 with 1 Axes>"
      ]
     },
     "metadata": {
      "needs_background": "light"
     },
     "output_type": "display_data"
    }
   ],
   "source": [
    "validation_curve(X_train_l,y_train,X_test_l,y_test)"
   ]
  },
  {
   "cell_type": "markdown",
   "metadata": {},
   "source": [
    "**Problem 6:** Implement a function that plots the learning curve.<br>\n",
    "*Input:* list of training features, training targets, list of testing features, testing target<br>\n",
    "*Output:* none. The function should plot the learning curve. Abcissa: dataset size, ordinate: mean absolute error for both train and test."
   ]
  },
  {
   "cell_type": "code",
   "execution_count": 18,
   "metadata": {},
   "outputs": [],
   "source": [
    "def learning_curve(X_train,y_train,X_test,y_test):\n",
    "    all_train_mae = [] \n",
    "    all_test_mae = []\n",
    "    for d in range(50,len(X_train),50):\n",
    "        train_x = X_train[:d]\n",
    "        train_y = y_train[:d]\n",
    "        test_x = X_test[:d]\n",
    "        test_y = y_test[:d]\n",
    "        tr_mae, ts_mae = ml(train_x,train_y,test_x,test_y)\n",
    "        all_train_mae.append(tr_mae)\n",
    "        all_test_mae.append(ts_mae)\n",
    "        \n",
    "    my_x = np.arange(len(all_train_mae))\n",
    "    plt.plot(my_x,all_train_mae,label='train loss')\n",
    "    plt.plot(my_x,all_test_mae,label='test loss')\n",
    "    plt.legend()\n",
    "    plt.show()\n",
    "    pass   "
   ]
  },
  {
   "cell_type": "code",
   "execution_count": 19,
   "metadata": {},
   "outputs": [
    {
     "data": {
      "image/png": "[encoded data removed]",
      "text/plain": [
       "<Figure size 432x288 with 1 Axes>"
      ]
     },
     "metadata": {
      "needs_background": "light"
     },
     "output_type": "display_data"
    }
   ],
   "source": [
    "learning_curve(X_train_l[1],y_train,X_test_l[1],y_test)"
   ]
  },
  {
   "cell_type": "markdown",
   "metadata": {},
   "source": [
    "The rest of the homework is optional and will not count toward the decision to receive a 0 or a 1. "
   ]
  },
  {
   "cell_type": "markdown",
   "metadata": {},
   "source": [
    "**Problem 7:** Implement a function that computes k folds for a feature and target set.<br>\n",
    "*Input:* feature set, target set, number of folds $k$<br>\n",
    "*Output:* list of partitions of the feature set, list of partitions of the target set."
   ]
  },
  {
   "cell_type": "code",
   "execution_count": 12,
   "metadata": {},
   "outputs": [],
   "source": [
    "def compute_folds(X_train,y_train,k):\n",
    "    pass"
   ]
  },
  {
   "cell_type": "markdown",
   "metadata": {},
   "source": [
    "**Problem 8:** Implement a function that computes the k-fold cross validated mean absolute error.<br>\n",
    "*Input:* feature set and target set, number of folds $k$<br>\n",
    "*Output:* macro averaged mean absolute error for both train and test."
   ]
  },
  {
   "cell_type": "code",
   "execution_count": 13,
   "metadata": {},
   "outputs": [],
   "source": [
    "def cross_validate(X_train,y_train,k):\n",
    "    pass"
   ]
  },
  {
   "cell_type": "code",
   "execution_count": 14,
   "metadata": {},
   "outputs": [
    {
     "data": {
      "text/plain": [
       "(4.199578801676423e-15, 4.2813305127933616e-15)"
      ]
     },
     "execution_count": 14,
     "metadata": {},
     "output_type": "execute_result"
    }
   ],
   "source": [
    "cross_validate(X_train_l[1],y_train,5)"
   ]
  },
  {
   "cell_type": "code",
   "execution_count": null,
   "metadata": {},
   "outputs": [],
   "source": []
  }
 ],
 "metadata": {
  "kernelspec": {
   "display_name": "Python 3",
   "language": "python",
   "name": "python3"
  },
  "language_info": {
   "codemirror_mode": {
    "name": "ipython",
    "version": 3
   },
   "file_extension": ".py",
   "mimetype": "text/x-python",
   "name": "python",
   "nbconvert_exporter": "python",
   "pygments_lexer": "ipython3",
   "version": "3.8.6"
  }
 },
 "nbformat": 4,
 "nbformat_minor": 4
}
