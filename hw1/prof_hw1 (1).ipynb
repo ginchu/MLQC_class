{
 "cells": [
  {
   "cell_type": "markdown",
   "metadata": {},
   "source": [
    "# Homework 1: Data Preparation and Feature Selection"
   ]
  },
  {
   "cell_type": "code",
   "execution_count": 1,
   "metadata": {},
   "outputs": [],
   "source": [
    "import pandas as pd\n",
    "import seaborn as sns\n",
    "import matplotlib.pyplot as plt\n",
    "from rdkit import Chem\n",
    "from rdkit.Chem import AllChem\n",
    "import mordred\n",
    "from mordred import Calculator, descriptors"
   ]
  },
  {
   "cell_type": "code",
   "execution_count": 2,
   "metadata": {},
   "outputs": [],
   "source": [
    "def register(features):\n",
    "    calc = mordred.Calculator() \n",
    "    for feature in features:\n",
    "        calc.register(feature)\n",
    "    return calc"
   ]
  },
  {
   "cell_type": "code",
   "execution_count": 3,
   "metadata": {},
   "outputs": [],
   "source": [
    "def smiles_to_mol(smiles):\n",
    "    m = Chem.MolFromSmiles(smiles)\n",
    "    m = Chem.AddHs(m)\n",
    "    AllChem.EmbedMolecule(m)\n",
    "    AllChem.MMFFOptimizeMolecule(m)\n",
    "    return m"
   ]
  },
  {
   "cell_type": "code",
   "execution_count": 4,
   "metadata": {},
   "outputs": [],
   "source": [
    "def featurize(df,features,smiles_to_mol):\n",
    "        \n",
    "    calc = register(features)\n",
    "    df_res = df['SMILES'].apply(smiles_to_mol)\n",
    "    df_res = calc.pandas(df_res)\n",
    "    #df_res['Solubility'] = df['Solubility']\n",
    "    \n",
    "    return df_res"
   ]
  },
  {
   "cell_type": "code",
   "execution_count": 5,
   "metadata": {},
   "outputs": [],
   "source": [
    "def correlates(fdf):\n",
    "    corr = fdf.corrwith(df['Solubility'])\n",
    "    print(corr.nlargest(10))\n",
    "    print(corr.nsmallest(10))"
   ]
  },
  {
   "cell_type": "code",
   "execution_count": 6,
   "metadata": {},
   "outputs": [],
   "source": [
    "def plot_feature(fdf,feature):\n",
    "    ldf = pd.DataFrame()\n",
    "    ldf[feature] = fdf[feature]\n",
    "    ldf['Solubility'] = fdf['Solubility']\n",
    "    ldf.sort_values(feature)\n",
    "    plt.scatter(ldf[feature],ldf['Solubility'])"
   ]
  },
  {
   "cell_type": "code",
   "execution_count": 7,
   "metadata": {},
   "outputs": [],
   "source": [
    "def prepare_dataset(dataset,features,smiles_to_mol):\n",
    "    df = pd.read_csv('../../Data/Solubility/dataset-' + dataset + '.csv')\n",
    "    df_f = featurize(df,features,smiles_to_mol)\n",
    "    df['Solubility'].to_csv('../../Data/Solubility/' + dataset + '_y',index=False)\n",
    "    df_f.to_csv('../../Data/Solubility/' + dataset + '_X',index=False)"
   ]
  },
  {
   "cell_type": "code",
   "execution_count": 8,
   "metadata": {},
   "outputs": [],
   "source": [
    "df = pd.read_csv('../../Data/Solubility/dataset-E.csv')"
   ]
  },
  {
   "cell_type": "code",
   "execution_count": 9,
   "metadata": {},
   "outputs": [],
   "source": [
    "features = [\n",
    "    mordred.AtomCount.AtomCount(\"X\"),\n",
    "    mordred.AtomCount.AtomCount(\"HeavyAtom\"),\n",
    "    mordred.Aromatic.AromaticAtomsCount,\n",
    "    \n",
    "    mordred.HydrogenBond.HBondAcceptor,\n",
    "    mordred.HydrogenBond.HBondDonor,\n",
    "    mordred.RotatableBond.RotatableBondsCount, \n",
    "    mordred.BondCount.BondCount(\"any\", False),\n",
    "    mordred.Aromatic.AromaticBondsCount,\n",
    "    mordred.BondCount.BondCount(\"heavy\", False),      \n",
    "    mordred.BondCount.BondCount(\"single\", False),\n",
    "    mordred.BondCount.BondCount(\"double\", False),\n",
    "    mordred.BondCount.BondCount(\"triple\", False)    \n",
    "]"
   ]
  },
  {
   "cell_type": "code",
   "execution_count": 10,
   "metadata": {},
   "outputs": [
    {
     "name": "stderr",
     "output_type": "stream",
     "text": [
      "100%|██████████| 1291/1291 [00:01<00:00, 872.39it/s] \n"
     ]
    }
   ],
   "source": [
    "fdf = featurize(df,features,smiles_to_mol) "
   ]
  },
  {
   "cell_type": "code",
   "execution_count": 11,
   "metadata": {},
   "outputs": [
    {
     "name": "stdout",
     "output_type": "stream",
     "text": [
      "nHBDon       0.221907\n",
      "nHBAcc       0.089930\n",
      "nBondsD     -0.003289\n",
      "nBondsT     -0.024682\n",
      "nRot        -0.156493\n",
      "nBondsS     -0.238614\n",
      "nBonds      -0.434277\n",
      "nX          -0.504571\n",
      "nAromAtom   -0.518627\n",
      "nAromBond   -0.521050\n",
      "dtype: float64\n",
      "nBondsO      -0.572487\n",
      "nHeavyAtom   -0.565610\n",
      "nAromBond    -0.521050\n",
      "nAromAtom    -0.518627\n",
      "nX           -0.504571\n",
      "nBonds       -0.434277\n",
      "nBondsS      -0.238614\n",
      "nRot         -0.156493\n",
      "nBondsT      -0.024682\n",
      "nBondsD      -0.003289\n",
      "dtype: float64\n"
     ]
    }
   ],
   "source": [
    "correlates(fdf)"
   ]
  },
  {
   "cell_type": "code",
   "execution_count": 13,
   "metadata": {},
   "outputs": [],
   "source": [
    "#plot_feature(fdf,'nHeavyAtom')"
   ]
  },
  {
   "cell_type": "code",
   "execution_count": 14,
   "metadata": {},
   "outputs": [
    {
     "name": "stderr",
     "output_type": "stream",
     "text": [
      "100%|██████████| 1291/1291 [00:01<00:00, 1071.18it/s]\n"
     ]
    }
   ],
   "source": [
    "prepare_dataset('E',features,smiles_to_mol)"
   ]
  },
  {
   "cell_type": "code",
   "execution_count": 15,
   "metadata": {},
   "outputs": [
    {
     "name": "stderr",
     "output_type": "stream",
     "text": [
      "100%|██████████| 1210/1210 [00:01<00:00, 938.68it/s] \n"
     ]
    }
   ],
   "source": [
    "prepare_dataset('F',features,smiles_to_mol)"
   ]
  },
  {
   "cell_type": "code",
   "execution_count": null,
   "metadata": {},
   "outputs": [],
   "source": []
  }
 ],
 "metadata": {
  "kernelspec": {
   "display_name": "Python 3",
   "language": "python",
   "name": "python3"
  },
  "language_info": {
   "codemirror_mode": {
    "name": "ipython",
    "version": 3
   },
   "file_extension": ".py",
   "mimetype": "text/x-python",
   "name": "python",
   "nbconvert_exporter": "python",
   "pygments_lexer": "ipython3",
   "version": "3.8.6"
  }
 },
 "nbformat": 4,
 "nbformat_minor": 4
}
