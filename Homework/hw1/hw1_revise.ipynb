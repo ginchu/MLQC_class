{
 "cells": [
  {
   "cell_type": "markdown",
   "metadata": {},
   "source": [
    "# Homework 1: Data Preparation and Feature Engineering"
   ]
  },
  {
   "cell_type": "code",
   "execution_count": 1,
   "metadata": {},
   "outputs": [],
   "source": [
    "import pandas as pd\n",
    "import seaborn as sns\n",
    "import matplotlib.pyplot as plt\n",
    "from rdkit import Chem \n",
    "from rdkit.Chem import AllChem\n",
    "import mordred\n",
    "from mordred import Calculator, descriptors"
   ]
  },
  {
   "cell_type": "markdown",
   "metadata": {},
   "source": [
    "**Question 1:** implement the following function.<br>\n",
    "*Input*: a list of mordred features.<br>\n",
    "*Output*: a mordred calculator"
   ]
  },
  {
   "cell_type": "code",
   "execution_count": 2,
   "metadata": {},
   "outputs": [],
   "source": [
    "def register(features):\n",
    "    calc = mordred.Calculator() \n",
    "    for feature in features:\n",
    "        calc.register(feature)\n",
    "    return calc"
   ]
  },
  {
   "cell_type": "markdown",
   "metadata": {},
   "source": [
    "The following example should work, but it won't do anything interesting."
   ]
  },
  {
   "cell_type": "code",
   "execution_count": 3,
   "metadata": {},
   "outputs": [],
   "source": [
    "#register([mordred.AtomCount.AtomCount('C')])"
   ]
  },
  {
   "cell_type": "markdown",
   "metadata": {},
   "source": [
    "**Question 2:** implement the following function.<br>\n",
    "*Input*: A SMILES string<br>\n",
    "*Output*: An RdKit molecule "
   ]
  },
  {
   "cell_type": "code",
   "execution_count": 4,
   "metadata": {},
   "outputs": [],
   "source": [
    "def smiles_to_mol(smiles):\n",
    "    m = Chem.MolFromSmiles(smiles)\n",
    "    m = Chem.AddHs(m)\n",
    "    AllChem.EmbedMolecule(m)\n",
    "    AllChem.MMFFOptimizeMolecule(m)\n",
    "    return m"
   ]
  },
  {
   "cell_type": "markdown",
   "metadata": {},
   "source": [
    "The following example should work and plot CH4"
   ]
  },
  {
   "cell_type": "code",
   "execution_count": 5,
   "metadata": {},
   "outputs": [],
   "source": [
    "#smiles_to_mol('C')"
   ]
  },
  {
   "cell_type": "markdown",
   "metadata": {},
   "source": [
    "**Question 3:** implement the following function.<br>\n",
    "*Input*: pandas dataframe, list of features, a smiles_to_mol function <br>\n",
    "*Output* a new pandas dataframe with features: "
   ]
  },
  {
   "cell_type": "code",
   "execution_count": 10,
   "metadata": {},
   "outputs": [],
   "source": [
    "def featurize(df,features,smiles_to_mol):\n",
    "        \n",
    "    calc = register(features)\n",
    "    df_res = df['SMILES'].apply(smiles_to_mol)\n",
    "    df_res = calc.pandas(df_res)\n",
    "    df_res['Solubility'] = df['Solubility']\n",
    "    \n",
    "    return df_res"
   ]
  },
  {
   "cell_type": "markdown",
   "metadata": {},
   "source": [
    "The following example should work and display part of a table with some features. First, let's load some data."
   ]
  },
  {
   "cell_type": "code",
   "execution_count": 11,
   "metadata": {},
   "outputs": [],
   "source": [
    "test_data = pd.read_csv('../../Data/Solubility/dataset-E.csv')"
   ]
  },
  {
   "cell_type": "code",
   "execution_count": 12,
   "metadata": {},
   "outputs": [
    {
     "name": "stderr",
     "output_type": "stream",
     "text": [
      "100%|██████████| 1291/1291 [00:02<00:00, 514.76it/s]\n"
     ]
    }
   ],
   "source": [
    "test_features = featurize(test_data,[mordred.AtomCount.AtomCount('C')],smiles_to_mol)"
   ]
  },
  {
   "cell_type": "code",
   "execution_count": 13,
   "metadata": {},
   "outputs": [
    {
     "data": {
      "text/html": [
       "<div>\n",
       "<style scoped>\n",
       "    .dataframe tbody tr th:only-of-type {\n",
       "        vertical-align: middle;\n",
       "    }\n",
       "\n",
       "    .dataframe tbody tr th {\n",
       "        vertical-align: top;\n",
       "    }\n",
       "\n",
       "    .dataframe thead th {\n",
       "        text-align: right;\n",
       "    }\n",
       "</style>\n",
       "<table border=\"1\" class=\"dataframe\">\n",
       "  <thead>\n",
       "    <tr style=\"text-align: right;\">\n",
       "      <th></th>\n",
       "      <th>nC</th>\n",
       "      <th>Solubility</th>\n",
       "    </tr>\n",
       "  </thead>\n",
       "  <tbody>\n",
       "    <tr>\n",
       "      <th>0</th>\n",
       "      <td>5</td>\n",
       "      <td>-3.18</td>\n",
       "    </tr>\n",
       "    <tr>\n",
       "      <th>1</th>\n",
       "      <td>5</td>\n",
       "      <td>-2.64</td>\n",
       "    </tr>\n",
       "    <tr>\n",
       "      <th>2</th>\n",
       "      <td>6</td>\n",
       "      <td>-3.84</td>\n",
       "    </tr>\n",
       "    <tr>\n",
       "      <th>3</th>\n",
       "      <td>6</td>\n",
       "      <td>-3.74</td>\n",
       "    </tr>\n",
       "    <tr>\n",
       "      <th>4</th>\n",
       "      <td>6</td>\n",
       "      <td>-3.55</td>\n",
       "    </tr>\n",
       "    <tr>\n",
       "      <th>...</th>\n",
       "      <td>...</td>\n",
       "      <td>...</td>\n",
       "    </tr>\n",
       "    <tr>\n",
       "      <th>1286</th>\n",
       "      <td>10</td>\n",
       "      <td>-3.37</td>\n",
       "    </tr>\n",
       "    <tr>\n",
       "      <th>1287</th>\n",
       "      <td>9</td>\n",
       "      <td>-5.49</td>\n",
       "    </tr>\n",
       "    <tr>\n",
       "      <th>1288</th>\n",
       "      <td>20</td>\n",
       "      <td>-2.47</td>\n",
       "    </tr>\n",
       "    <tr>\n",
       "      <th>1289</th>\n",
       "      <td>14</td>\n",
       "      <td>-7.15</td>\n",
       "    </tr>\n",
       "    <tr>\n",
       "      <th>1290</th>\n",
       "      <td>10</td>\n",
       "      <td>-6.86</td>\n",
       "    </tr>\n",
       "  </tbody>\n",
       "</table>\n",
       "<p>1291 rows × 2 columns</p>\n",
       "</div>"
      ],
      "text/plain": [
       "      nC  Solubility\n",
       "0      5       -3.18\n",
       "1      5       -2.64\n",
       "2      6       -3.84\n",
       "3      6       -3.74\n",
       "4      6       -3.55\n",
       "...   ..         ...\n",
       "1286  10       -3.37\n",
       "1287   9       -5.49\n",
       "1288  20       -2.47\n",
       "1289  14       -7.15\n",
       "1290  10       -6.86\n",
       "\n",
       "[1291 rows x 2 columns]"
      ]
     },
     "execution_count": 13,
     "metadata": {},
     "output_type": "execute_result"
    }
   ],
   "source": [
    "test_features"
   ]
  },
  {
   "cell_type": "markdown",
   "metadata": {},
   "source": [
    "**Question 4:** implement the following function.<br>\n",
    "*Input*: pandas dataframe, number of features to display <br>\n",
    "*Output:* list of n most correlated features, list of n most anticorrelated features: "
   ]
  },
  {
   "cell_type": "code",
   "execution_count": 18,
   "metadata": {},
   "outputs": [],
   "source": [
    "def correlates(fdf,n):\n",
    "    corr = fdf.corrwith(fdf['Solubility'])\n",
    "    print(corr.nlargest(n))\n",
    "    print(corr.nsmallest(n))"
   ]
  },
  {
   "cell_type": "markdown",
   "metadata": {},
   "source": [
    "The following example should work and return two lists of features with their correlation to Solubility."
   ]
  },
  {
   "cell_type": "code",
   "execution_count": 19,
   "metadata": {},
   "outputs": [
    {
     "name": "stdout",
     "output_type": "stream",
     "text": [
      "Solubility    1.000000\n",
      "nC           -0.591717\n",
      "dtype: float64\n",
      "nC           -0.591717\n",
      "Solubility    1.000000\n",
      "dtype: float64\n"
     ]
    }
   ],
   "source": [
    "correlates(test_features,3)"
   ]
  },
  {
   "cell_type": "markdown",
   "metadata": {},
   "source": [
    "**Question 5:** implement the following function.<br>\n",
    "*Input*: pandas dataframe, single feature<br>\n",
    "*Output*: none, the function should plot the solubility as a function of the value of the feature"
   ]
  },
  {
   "cell_type": "code",
   "execution_count": 13,
   "metadata": {},
   "outputs": [],
   "source": [
    "def plot_feature(fdf,feature):\n",
    "    ldf = pd.DataFrame()\n",
    "    ldf[feature] = fdf[feature]\n",
    "    ldf['Solubility'] = fdf['Solubility']\n",
    "    ldf.sort_values(feature)\n",
    "    plt.scatter(ldf[feature],ldf['Solubility'])"
   ]
  },
  {
   "cell_type": "code",
   "execution_count": 14,
   "metadata": {},
   "outputs": [],
   "source": [
    "#plot_feature(test_features,'nC')"
   ]
  },
  {
   "cell_type": "markdown",
   "metadata": {},
   "source": [
    "**Question 6:** implement the following function.<br>\n",
    "*Input*: path to dataset, list of features, smiles_to_mol function<br>\n",
    "*Output*: none, the function should dump two csv files, one for the features, one for the solubility"
   ]
  },
  {
   "cell_type": "code",
   "execution_count": 15,
   "metadata": {},
   "outputs": [],
   "source": [
    "def prepare_dataset(dataset,features,smiles_to_mol,path):\n",
    "    df = pd.read_csv(dataset)\n",
    "    df_f = featurize(df,features,smiles_to_mol)\n",
    "    df['Solubility'].to_csv(path+\"solubility.csv\")\n",
    "    df_f.to_csv(path+\"features.csv\")"
   ]
  },
  {
   "cell_type": "markdown",
   "metadata": {},
   "source": [
    "The following example should work and create two new files on your directory."
   ]
  },
  {
   "cell_type": "code",
   "execution_count": 16,
   "metadata": {},
   "outputs": [],
   "source": [
    "#prepare_dataset('../../Data/Solubility/dataset-E.csv',[mordred.AtomCount.AtomCount('C')],smiles_to_mol)"
   ]
  },
  {
   "cell_type": "code",
   "execution_count": 17,
   "metadata": {},
   "outputs": [],
   "source": [
    "features = [\n",
    "    mordred.AtomCount.AtomCount(\"X\"),\n",
    "    mordred.AtomCount.AtomCount(\"HeavyAtom\"),\n",
    "    mordred.Aromatic.AromaticAtomsCount,\n",
    "    \n",
    "    mordred.HydrogenBond.HBondAcceptor,\n",
    "    mordred.HydrogenBond.HBondDonor,\n",
    "    mordred.RotatableBond.RotatableBondsCount, \n",
    "    mordred.BondCount.BondCount(\"any\", False),\n",
    "    mordred.Aromatic.AromaticBondsCount,\n",
    "    mordred.BondCount.BondCount(\"heavy\", False),      \n",
    "    mordred.BondCount.BondCount(\"single\", False),\n",
    "    mordred.BondCount.BondCount(\"double\", False),\n",
    "    mordred.BondCount.BondCount(\"triple\", False)    \n",
    "]"
   ]
  },
  {
   "cell_type": "code",
   "execution_count": null,
   "metadata": {},
   "outputs": [],
   "source": [
    "train='./train/'\n",
    "test='./test/'\n",
    "prepare_dataset('../../Data/Solubility/dataset-F.csv',features,smiles_to_mol, train)\n",
    "prepare_dataset('../../Data/Solubility/dataset-E.csv',features,smiles_to_mol, test)"
   ]
  },
  {
   "cell_type": "markdown",
   "metadata": {},
   "source": [
    "## Towards the milestone project"
   ]
  },
  {
   "cell_type": "markdown",
   "metadata": {},
   "source": [
    "The functions you have implemented will play a key role for the milestone project. First, you should use them to explore the data and select good features. Note that the following command will let you play with all of the available features, ignoring the 3D ones. "
   ]
  },
  {
   "cell_type": "code",
   "execution_count": 148,
   "metadata": {},
   "outputs": [
    {
     "data": {
      "text/plain": [
       "<mordred._base.calculator.Calculator at 0x7fc8d1540dd0>"
      ]
     },
     "execution_count": 148,
     "metadata": {},
     "output_type": "execute_result"
    }
   ],
   "source": [
    "Calculator(descriptors, ignore_3D=True)"
   ]
  },
  {
   "cell_type": "markdown",
   "metadata": {},
   "source": [
    "Second, once you have selected your features, you will run the prepare_dataset function to create the data that you will use for the upcoming homeworks. "
   ]
  }
 ],
 "metadata": {
  "kernelspec": {
   "display_name": "Python 3",
   "language": "python",
   "name": "python3"
  },
  "language_info": {
   "codemirror_mode": {
    "name": "ipython",
    "version": 3
   },
   "file_extension": ".py",
   "mimetype": "text/x-python",
   "name": "python",
   "nbconvert_exporter": "python",
   "pygments_lexer": "ipython3",
   "version": "3.8.6"
  }
 },
 "nbformat": 4,
 "nbformat_minor": 4
}
