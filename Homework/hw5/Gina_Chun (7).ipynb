{
 "cells": [
  {
   "cell_type": "markdown",
   "metadata": {},
   "source": [
    "# Homework 5: Training Linear Models"
   ]
  },
  {
   "cell_type": "code",
   "execution_count": 302,
   "metadata": {},
   "outputs": [],
   "source": [
    "import numpy as np\n",
    "from numpy.random import rand\n",
    "import matplotlib.pyplot as plt\n",
    "from scipy.linalg import solve_triangular, cholesky, svd, diagsvd\n",
    "from scipy.optimize import newton\n",
    "from random import randint"
   ]
  },
  {
   "cell_type": "markdown",
   "metadata": {},
   "source": [
    "To do this homework, you will need to look up the documentation of the scipy functions solve_triangular, cholesky, svd, diagsvd, and newton."
   ]
  },
  {
   "cell_type": "code",
   "execution_count": 303,
   "metadata": {},
   "outputs": [],
   "source": [
    "x = np.linspace(-10,10,100).reshape(-1,1)"
   ]
  },
  {
   "cell_type": "code",
   "execution_count": 304,
   "metadata": {},
   "outputs": [],
   "source": [
    "y = 0.1 * x**4 + 1.2 * x**3 + 1.2 * x**2 + 2.1 * x "
   ]
  },
  {
   "cell_type": "markdown",
   "metadata": {},
   "source": [
    "In this homework, your training data is composed of features x and target y, which can be scattered on a plot as follows:"
   ]
  },
  {
   "cell_type": "code",
   "execution_count": 305,
   "metadata": {},
   "outputs": [
    {
     "data": {
      "text/plain": [
       "<matplotlib.collections.PathCollection at 0x7fbe27339c40>"
      ]
     },
     "execution_count": 305,
     "metadata": {},
     "output_type": "execute_result"
    },
    {
     "data": {
      "image/png": "[encoded data removed]",
      "text/plain": [
       "<Figure size 432x288 with 1 Axes>"
      ]
     },
     "metadata": {
      "needs_background": "light"
     },
     "output_type": "display_data"
    }
   ],
   "source": [
    "plt.scatter(x,y,color='r',s=0.1)"
   ]
  },
  {
   "cell_type": "markdown",
   "metadata": {},
   "source": [
    "## Part 0: Setup"
   ]
  },
  {
   "cell_type": "markdown",
   "metadata": {},
   "source": [
    "**Question 1:** You will train a linear model. Since the training data is not linear, we will need to project our features into a higher dimentional space. Define the linear regression model as a function of both its weights (w) and a projection (f). The model should be a function of x, where x is a value from the feature space (this can be done in one line of code if you use a lambda)."
   ]
  },
  {
   "cell_type": "code",
   "execution_count": 306,
   "metadata": {},
   "outputs": [],
   "source": [
    "def model(w,f):\n",
    "    return lambda x: np.dot(f(x), w) "
   ]
  },
  {
   "cell_type": "markdown",
   "metadata": {},
   "source": [
    "**Question 2:** Define the projection. It takes a value x from the feature space as an input, and returns an array of features. Note that you should define this function in such  a way that if you call it with an array of features, it should work and return a matrix of projected features."
   ]
  },
  {
   "cell_type": "code",
   "execution_count": 307,
   "metadata": {},
   "outputs": [],
   "source": [
    "def f(x):\n",
    "    features = []\n",
    "    for i in x:\n",
    "        xi = i[0]\n",
    "        proj = [xi,xi**2,xi**3,xi**4]\n",
    "        features.append(proj)\n",
    "    if len(x)==1:\n",
    "        features = features[0]\n",
    "    return features"
   ]
  },
  {
   "cell_type": "markdown",
   "metadata": {},
   "source": [
    "The following function takes some training data x and y, a projection f, and a solver (the solver takes as an argument the features and the target and returns weights) and does the following:\n",
    "<ul>\n",
    "<li> Compute the projection of the features\n",
    "<li> Use the solver to compute the weights based on the engineered training data\n",
    "<li> Chose the predictive model based on the weights\n",
    "<li> Scatter the training data\n",
    "<li> Plot the prediction of our model \n",
    "</ul>\n",
    "Please study this function carefuly. In the rest of this homework, you will define several solvers."
   ]
  },
  {
   "cell_type": "code",
   "execution_count": 308,
   "metadata": {},
   "outputs": [],
   "source": [
    "def fit(x,y,f,solver):\n",
    "    X = f(x)\n",
    "    #print(X[0:3])\n",
    "    #print(np.array(X).shape)\n",
    "    w = solver(X,y)\n",
    "    chosen_model = model(w,f)\n",
    "    plt.scatter(x,y,color='r',s=1.0)\n",
    "    plt.plot(x,chosen_model(x))"
   ]
  },
  {
   "cell_type": "markdown",
   "metadata": {},
   "source": [
    "## Part 1: Solving Least Squares with Linear Algebra"
   ]
  },
  {
   "cell_type": "markdown",
   "metadata": {},
   "source": [
    "**Question 4:** Use the Cholesky decomposition to solve the normal equation. To do this you should make use of the scipy functions *cholesky* and *solve_triangular*."
   ]
  },
  {
   "cell_type": "code",
   "execution_count": 309,
   "metadata": {},
   "outputs": [],
   "source": [
    "def solve_cholesky(X,y):\n",
    "    Xtx = np.dot(np.transpose(X), X)\n",
    "    L = cholesky(Xtx, lower=True)\n",
    "    Xty = np.dot(np.transpose(X),y)\n",
    "    a = solve_triangular(L, Xty, lower=True)\n",
    "    w = solve_triangular(np.transpose(L), a, lower=True)\n",
    "    return w"
   ]
  },
  {
   "cell_type": "code",
   "execution_count": 310,
   "metadata": {},
   "outputs": [
    {
     "data": {
      "image/png": "[encoded data removed]",
      "text/plain": [
       "<Figure size 432x288 with 1 Axes>"
      ]
     },
     "metadata": {
      "needs_background": "light"
     },
     "output_type": "display_data"
    }
   ],
   "source": [
    "fit(x,y,f,solve_cholesky)"
   ]
  },
  {
   "cell_type": "markdown",
   "metadata": {},
   "source": [
    "**Question 5:** Use the Singular Value decomposition to solve the normal equation. To do this you should make use of the scipy functions *svd* and *diagsvd*."
   ]
  },
  {
   "cell_type": "code",
   "execution_count": 311,
   "metadata": {},
   "outputs": [],
   "source": [
    "def solve_svd(X,y):\n",
    "    U, s, Vh = svd(X)\n",
    "    S = diagsvd(s, 100, 4)\n",
    "    x = U.dot(S).dot(Vh)\n",
    "    Xtx = np.dot(np.transpose(x), x)\n",
    "    Xty = np.dot(np.transpose(x), y)\n",
    "    w = solve_triangular(Xtx, Xty, lower=True)\n",
    "    return w"
   ]
  },
  {
   "cell_type": "code",
   "execution_count": 312,
   "metadata": {},
   "outputs": [
    {
     "data": {
      "image/png": "[encoded data removed]",
      "text/plain": [
       "<Figure size 432x288 with 1 Axes>"
      ]
     },
     "metadata": {
      "needs_background": "light"
     },
     "output_type": "display_data"
    }
   ],
   "source": [
    "fit(x,y,f,solve_svd)"
   ]
  },
  {
   "cell_type": "markdown",
   "metadata": {},
   "source": [
    "## Part 2: Solving Least Squares with Root Finding"
   ]
  },
  {
   "cell_type": "markdown",
   "metadata": {},
   "source": [
    "**Question 6:** Define the gradient of your model."
   ]
  },
  {
   "cell_type": "code",
   "execution_count": 315,
   "metadata": {},
   "outputs": [],
   "source": [
    "def gradient(X,y,w):\n",
    "    grad = 2 * np.transpose(X).dot(X).dot(w) - 2 * np.transpose(X).dot(y)\n",
    "    return grad"
   ]
  },
  {
   "cell_type": "markdown",
   "metadata": {},
   "source": [
    "**Question 7:** Use the Newton method to solve the normal equation. To do this, you should make use of the scipy function *newton*."
   ]
  },
  {
   "cell_type": "code",
   "execution_count": 360,
   "metadata": {},
   "outputs": [],
   "source": [
    "def solve_newton(X,y):\n",
    "    k = newton(f, X)\n",
    "    n = randint(0,len(k))\n",
    "    w = k[n].reshape((4,1))\n",
    "    while True:\n",
    "        grad = gradient(X,y,w)\n",
    "        grad_diff = np.mean(grad[0]) - np.mean(grad[1])\n",
    "        if grad_diff < 0.001:\n",
    "            break\n",
    "        else:\n",
    "            w -= np.dot(grad, [0.01,0.01,0.01,0.1])\n",
    "    return grad"
   ]
  },
  {
   "cell_type": "code",
   "execution_count": 361,
   "metadata": {},
   "outputs": [
    {
     "data": {
      "image/png": "[encoded data removed]",
      "text/plain": [
       "<Figure size 432x288 with 1 Axes>"
      ]
     },
     "metadata": {
      "needs_background": "light"
     },
     "output_type": "display_data"
    }
   ],
   "source": [
    "fit(x,y,f,solve_newton)"
   ]
  },
  {
   "cell_type": "markdown",
   "metadata": {},
   "source": [
    "## Part 3: Solving Least Squares by Optimization"
   ]
  },
  {
   "cell_type": "markdown",
   "metadata": {},
   "source": [
    "**Question 8:** Use Gradient Descent to solve the normal equation"
   ]
  },
  {
   "cell_type": "code",
   "execution_count": 356,
   "metadata": {},
   "outputs": [],
   "source": [
    "def solve_gd(X,y):\n",
    "    w = rand(4).reshape((4,1))\n",
    "    while True:\n",
    "        grad = gradient(X, y, w)\n",
    "        grad_diff = np.mean(grad[0]) - np.mean(grad[1])\n",
    "        if grad_diff < 1:\n",
    "            break\n",
    "        else:\n",
    "            w -= np.dot(grad, [0.01,0.01,0.01,0.1])\n",
    "    return w"
   ]
  },
  {
   "cell_type": "code",
   "execution_count": 357,
   "metadata": {},
   "outputs": [
    {
     "data": {
      "image/png": "[encoded data removed]",
      "text/plain": [
       "<Figure size 432x288 with 1 Axes>"
      ]
     },
     "metadata": {
      "needs_background": "light"
     },
     "output_type": "display_data"
    }
   ],
   "source": [
    "fit(x,y,f,solve_gd)"
   ]
  },
  {
   "cell_type": "markdown",
   "metadata": {},
   "source": [
    "**Question 9:** Use Stochastic Gradient Descent to solve the normal equation"
   ]
  },
  {
   "cell_type": "code",
   "execution_count": 358,
   "metadata": {},
   "outputs": [],
   "source": [
    "def solve_sgd(X,y):\n",
    "    w = rand(4).reshape((4,1))\n",
    "    while True:\n",
    "        grad = gradient(X, y, w)\n",
    "        grad_diff = np.mean(grad[0]) - np.mean(grad[1])\n",
    "        if grad_diff < 1:\n",
    "            break\n",
    "        else:\n",
    "            w -= np.dot(grad, [0.01,0.01,0.01,0.1])\n",
    "    return w"
   ]
  },
  {
   "cell_type": "code",
   "execution_count": 359,
   "metadata": {},
   "outputs": [
    {
     "data": {
      "image/png": "[encoded data removed]",
      "text/plain": [
       "<Figure size 432x288 with 1 Axes>"
      ]
     },
     "metadata": {
      "needs_background": "light"
     },
     "output_type": "display_data"
    }
   ],
   "source": [
    "fit(x,y,f,solve_sgd)"
   ]
  },
  {
   "cell_type": "code",
   "execution_count": null,
   "metadata": {},
   "outputs": [],
   "source": []
  }
 ],
 "metadata": {
  "kernelspec": {
   "display_name": "Python 3",
   "language": "python",
   "name": "python3"
  },
  "language_info": {
   "codemirror_mode": {
    "name": "ipython",
    "version": 3
   },
   "file_extension": ".py",
   "mimetype": "text/x-python",
   "name": "python",
   "nbconvert_exporter": "python",
   "pygments_lexer": "ipython3",
   "version": "3.8.6"
  }
 },
 "nbformat": 4,
 "nbformat_minor": 4
}
