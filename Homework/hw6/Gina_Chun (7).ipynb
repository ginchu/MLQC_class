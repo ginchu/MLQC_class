{
 "cells": [
  {
   "cell_type": "markdown",
   "metadata": {},
   "source": [
    "# Homework 6: Automatic Differentiation"
   ]
  },
  {
   "cell_type": "markdown",
   "metadata": {},
   "source": [
    "In this homework, you will start using pytorch and automatic differentiation to train models. "
   ]
  },
  {
   "cell_type": "code",
   "execution_count": 3,
   "metadata": {},
   "outputs": [],
   "source": [
    "import numpy as np\n",
    "import torch\n",
    "from torch.autograd import grad\n",
    "from sklearn.datasets import make_regression\n",
    "import torch.nn as nn\n",
    "import matplotlib.pyplot as plt"
   ]
  },
  {
   "cell_type": "markdown",
   "metadata": {},
   "source": [
    "We will work on the same problem as last week. "
   ]
  },
  {
   "cell_type": "code",
   "execution_count": 4,
   "metadata": {},
   "outputs": [],
   "source": [
    "x = np.linspace(-10,10,100).reshape(-1,1)"
   ]
  },
  {
   "cell_type": "code",
   "execution_count": 5,
   "metadata": {},
   "outputs": [],
   "source": [
    "y = 0.1 * x**4 + 1.2 * x**3 + 1.2 * x**2 + 2.1 * x "
   ]
  },
  {
   "cell_type": "code",
   "execution_count": 6,
   "metadata": {},
   "outputs": [
    {
     "data": {
      "text/plain": [
       "<matplotlib.collections.PathCollection at 0x7fae2aecfc10>"
      ]
     },
     "execution_count": 6,
     "metadata": {},
     "output_type": "execute_result"
    },
    {
     "data": {
      "image/png": "[encoded data removed]",
      "text/plain": [
       "<Figure size 432x288 with 1 Axes>"
      ]
     },
     "metadata": {
      "needs_background": "light"
     },
     "output_type": "display_data"
    }
   ],
   "source": [
    "plt.scatter(x,y,color='r',s=0.1)"
   ]
  },
  {
   "cell_type": "markdown",
   "metadata": {},
   "source": [
    "For your convenience, here is an example showing how to train a linear model by gradient descent."
   ]
  },
  {
   "cell_type": "code",
   "execution_count": 109,
   "metadata": {},
   "outputs": [],
   "source": [
    "def model(w,f):\n",
    "    #return lambda x: np.dot(f(x),w)\n",
    "    return lambda x: torch.mm(torch.tensor(f(x)),torch.tensor(w))"
   ]
  },
  {
   "cell_type": "code",
   "execution_count": 104,
   "metadata": {},
   "outputs": [],
   "source": [
    "def f(x):\n",
    "    return np.concatenate(np.array([x,x**2,x**3,x**4]),axis=1)"
   ]
  },
  {
   "cell_type": "code",
   "execution_count": 105,
   "metadata": {},
   "outputs": [],
   "source": [
    "def fit(x,y,f,solver):\n",
    "    w = solver(f(x),y)\n",
    "    chosen_model = model(w,f)\n",
    "    plt.scatter(x,y,color='r',s=1.0)\n",
    "    plt.plot(x,chosen_model(x))"
   ]
  },
  {
   "cell_type": "code",
   "execution_count": 106,
   "metadata": {},
   "outputs": [],
   "source": [
    "def gradient(X,y,w):\n",
    "    return -2 * X.T @ y + 2 * X.T @ X @ w"
   ]
  },
  {
   "cell_type": "code",
   "execution_count": 107,
   "metadata": {},
   "outputs": [],
   "source": [
    "def solve_gd(X,y):\n",
    "    w = np.array([[2.1],[1],[1],[0]])\n",
    "    for i in range(1000):\n",
    "        g = gradient(X,y,w)\n",
    "        w -= 0.0000000001 * g\n",
    "    return w"
   ]
  },
  {
   "cell_type": "code",
   "execution_count": 108,
   "metadata": {},
   "outputs": [
    {
     "data": {
      "image/png": "[encoded data removed]",
      "text/plain": [
       "<Figure size 432x288 with 1 Axes>"
      ]
     },
     "metadata": {
      "needs_background": "light"
     },
     "output_type": "display_data"
    }
   ],
   "source": [
    "fit(x,y,f,solve_gd)"
   ]
  },
  {
   "cell_type": "markdown",
   "metadata": {},
   "source": [
    "**Problem 1**: Train the same model, but this time, do it using automatic differentiation. That is, you should **not** use the *gradient* function that was defined above. Instead of calculating the gradient by hand and implementing it, you will compute it automatically. Here are a few hints that will help you:\n",
    "<ul>\n",
    "<li> Because it will be used in the *fit* function, your solver will receive numpy arrays as arguments and should return a numpy array. However, your function needs to work using torch tensors. So, the first thing you should do to convert the input to torch tensors, and the last thing you should do is convert the value you want to return back to a numpy array. \n",
    "<li> Note that you cannot use the *model* function as we did before, because it works on numpy arrays. You could convert back and forth, but that's too costly. Instead, you should redefine the model so that it uses torch tensors. \n",
    "<li> Don't forget that the weights need to be updated for the gradient descent to work, and so you should make sure to define them using the *requires_grad=True* argument.\n",
    "<li> Even though we have been defining the squared error as a sum of the individual squared errors, you should use the mean.\n",
    "</ul>"
   ]
  },
  {
   "cell_type": "code",
   "execution_count": 170,
   "metadata": {},
   "outputs": [],
   "source": [
    "def solve_gd_autodiff(X,y):\n",
    "    X = torch.tensor(X, dtype=torch.double)\n",
    "    y = torch.tensor(y, dtype=torch.double)\n",
    "    w = torch.tensor([[10],[1],[1],[0]], requires_grad=True, dtype=torch.double)\n",
    "    for i in range(1000):\n",
    "        error = torch.mm(X, w) - y\n",
    "        loss = (error**2).mean()\n",
    "        loss.backward()\n",
    "        with torch.no_grad():\n",
    "            w -= 0.0000000001 * w.grad\n",
    "        w.grad = None\n",
    "    w = w.detach()\n",
    "    return w.numpy()"
   ]
  },
  {
   "cell_type": "code",
   "execution_count": 171,
   "metadata": {},
   "outputs": [
    {
     "data": {
      "image/png": "[encoded data removed]",
      "text/plain": [
       "<Figure size 432x288 with 1 Axes>"
      ]
     },
     "metadata": {
      "needs_background": "light"
     },
     "output_type": "display_data"
    }
   ],
   "source": [
    "fit(x,y,f,solve_gd_autodiff)"
   ]
  },
  {
   "cell_type": "code",
   "execution_count": null,
   "metadata": {},
   "outputs": [],
   "source": []
  }
 ],
 "metadata": {
  "kernelspec": {
   "display_name": "Python 3",
   "language": "python",
   "name": "python3"
  },
  "language_info": {
   "codemirror_mode": {
    "name": "ipython",
    "version": 3
   },
   "file_extension": ".py",
   "mimetype": "text/x-python",
   "name": "python",
   "nbconvert_exporter": "python",
   "pygments_lexer": "ipython3",
   "version": "3.8.6"
  }
 },
 "nbformat": 4,
 "nbformat_minor": 4
}
