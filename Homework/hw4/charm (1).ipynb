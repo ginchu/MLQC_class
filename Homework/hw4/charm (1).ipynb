{
 "cells": [
  {
   "cell_type": "markdown",
   "metadata": {},
   "source": [
    "# Homework 4: Predicting Solubility"
   ]
  },
  {
   "cell_type": "markdown",
   "metadata": {},
   "source": [
    "In this homework, your goal is to predict the solubility of a compound, and to reach to lowest possible error on the test set. To make this homework a little more interactive, you should report your score on a scoreboard: https://keepthescore.co/board/cmdaqeorufe/ <br> For this homework, you will use a library called score, which provides you with 3 functions. \n",
    "<ul>\n",
    "    <li> featurize(dataset,features): dataset should be a CSV file with at least two columns: SMILES and Solubility. features should be a list of mordred features. Returns two numpy tensors, one with the result of the feature calculation, one with the target. \n",
    "    <li> test(features,model): features should be a list of mordred features. model should be a scikit learn estimator. return the mean average error on the test set.\n",
    "    <li> report(teamname): teaname should be your team name, per the canvas group assignment. Effect: records your current score on the scoreboard.\n",
    "</ul>\n",
    "At the end of this notebook, you will find an example on how to train a model, test it, and report a score. Note that you are allowed to use my featurize function for your featurization. If you want to use 3D features, please contact me. You should use datasets A, B, C, D, F, G, H, I for your work. You are encouraged to use multiple datasets!<br>\n",
    "One final note: you will not be graded based on the scoreboard. Of course, there might be some anticorrelation between your test score and your grade, but you need not worry about the scoreboard."
   ]
  },
  {
   "cell_type": "code",
   "execution_count": 3,
   "metadata": {},
   "outputs": [],
   "source": [
    "from score import report, featurize, test"
   ]
  },
  {
   "cell_type": "markdown",
   "metadata": {},
   "source": [
    "**Rules**:<br>\n",
    "<ul>\n",
    "    <li> It is forbidden to modify the score library;\n",
    "    <li> It is forbidden to import any other function from the score library;\n",
    "    <li> It is forbidden to use dataset E;\n",
    "    <li> It is forbidden to use any dataset other than A, B, C, D, F, G, H, I;\n",
    "    <li> It is forbidden to use features others than the ones computed from mordred;\n",
    "    <li> You can use any number of features, however, at the end, you will need to provide a brief (and vague) explanation of what your features are doing.\n",
    "    <li> You can use anything you want for modeling, including all the tools available in pytorch, and you can even use other machine libraries if you wish;\n",
    "    <li> It is forbidden to modify the scoreboard page (be careful, you all have admin access to it).\n",
    "</ul>\n",
    "It is very easy to cheat and rely on your integrity to participate in good faith. If you are caught cheating, you will get 0 for the assignment. "
   ]
  },
  {
   "cell_type": "markdown",
   "metadata": {},
   "source": [
    "## Example"
   ]
  },
  {
   "cell_type": "code",
   "execution_count": 4,
   "metadata": {},
   "outputs": [],
   "source": [
    "import numpy as np\n",
    "import pandas as pd\n",
    "import mordred.AtomCount"
   ]
  },
  {
   "cell_type": "code",
   "execution_count": 102,
   "metadata": {},
   "outputs": [],
   "source": [
    "features = [mordred.AtomCount.AtomCount(\"X\"), mordred.AtomCount.AtomCount(\"HeavyAtom\")]"
   ]
  },
  {
   "cell_type": "code",
   "execution_count": 103,
   "metadata": {},
   "outputs": [
    {
     "name": "stderr",
     "output_type": "stream",
     "text": [
      "100%|██████████| 1210/1210 [00:02<00:00, 451.27it/s]\n"
     ]
    }
   ],
   "source": [
    "X_train, y_train = featurize('../../Data/Solubility/dataset-F.csv',features)"
   ]
  },
  {
   "cell_type": "code",
   "execution_count": 104,
   "metadata": {},
   "outputs": [],
   "source": [
    "from sklearn.linear_model import LinearRegression"
   ]
  },
  {
   "cell_type": "code",
   "execution_count": 115,
   "metadata": {},
   "outputs": [],
   "source": [
    "model = LinearRegression()"
   ]
  },
  {
   "cell_type": "code",
   "execution_count": 116,
   "metadata": {},
   "outputs": [
    {
     "data": {
      "text/plain": [
       "LinearRegression()"
      ]
     },
     "execution_count": 116,
     "metadata": {},
     "output_type": "execute_result"
    }
   ],
   "source": [
    "model.fit(X_train,y_train)"
   ]
  },
  {
   "cell_type": "code",
   "execution_count": 117,
   "metadata": {},
   "outputs": [
    {
     "name": "stderr",
     "output_type": "stream",
     "text": [
      "100%|██████████| 1291/1291 [00:03<00:00, 405.18it/s]\n"
     ]
    },
    {
     "data": {
      "text/plain": [
       "0.711502668545131"
      ]
     },
     "execution_count": 117,
     "metadata": {},
     "output_type": "execute_result"
    }
   ],
   "source": [
    "test(features,model)"
   ]
  },
  {
   "cell_type": "code",
   "execution_count": 108,
   "metadata": {},
   "outputs": [
    {
     "name": "stdout",
     "output_type": "stream",
     "text": [
      "Your score is worse than your previous best score, it will not be reported.\n"
     ]
    }
   ],
   "source": [
    "report('Test')"
   ]
  },
  {
   "cell_type": "markdown",
   "metadata": {},
   "source": [
    "## Your turn"
   ]
  },
  {
   "cell_type": "code",
   "execution_count": 56,
   "metadata": {},
   "outputs": [],
   "source": [
    "from sklearn.linear_model import Ridge\n",
    "from sklearn.preprocessing import StandardScaler\n",
    "from sklearn.decomposition import PCA\n",
    "from sklearn.model_selection import GridSearchCV\n",
    "from sklearn.preprocessing import PolynomialFeatures as PF\n",
    "from sklearn.pipeline import Pipeline\n",
    "from sklearn.metrics import mean_absolute_error\n",
    "from sklearn.svm import SVR\n",
    "import mordred\n",
    "from mordred import Calculator, descriptors"
   ]
  },
  {
   "cell_type": "code",
   "execution_count": 57,
   "metadata": {},
   "outputs": [],
   "source": [
    "def concatenate():\n",
    "    data_name = ['B', 'C', 'D', 'F', 'G', 'H']\n",
    "    df_list = []\n",
    "    \n",
    "    #load data\n",
    "    for name in data_name: \n",
    "        df_list.append(pd.read_csv('../../Data/Solubility/dataset-'+ name +'.csv'))\n",
    "        \n",
    "    #concatenate all datasets\n",
    "    training_data =  pd.concat(df_list, axis=0, ignore_index=True)\n",
    "    training_data.to_csv('../../Data/Solubility/dataset-HW4.csv')"
   ]
  },
  {
   "cell_type": "code",
   "execution_count": 58,
   "metadata": {},
   "outputs": [],
   "source": [
    "concatenate()"
   ]
  },
  {
   "cell_type": "code",
   "execution_count": 172,
   "metadata": {},
   "outputs": [],
   "source": [
    "# list of mordred features\n",
    "features= [mordred.HydrogenBond.HBondAcceptor, mordred.HydrogenBond.HBondDonor, mordred.RingCount.RingCount, mordred.Polarizability.APol, \n",
    "           mordred.Polarizability.BPol, mordred.SLogP, mordred.TopoPSA.TopoPSA(True), mordred.AtomCount.AtomCount('C'), \n",
    "           mordred.AtomCount.AtomCount('O'), mordred.AtomCount.AtomCount('N'), mordred.RotatableBond.RotatableBondsCount(),\n",
    "          mordred.TopologicalIndex.Diameter(), mordred.WienerIndex.WienerIndex(True), mordred.ABCIndex.ABCIndex(), mordred.Aromatic.AromaticAtomsCount(), \n",
    "           mordred.Autocorrelation.ATS(3, 'dv'), mordred.Weight.Weight(True, False)]"
   ]
  },
  {
   "cell_type": "code",
   "execution_count": 173,
   "metadata": {},
   "outputs": [
    {
     "name": "stderr",
     "output_type": "stream",
     "text": [
      "RDKit WARNING: [23:32:57] WARNING: not removing hydrogen atom without neighbors\n",
      "RDKit WARNING: [23:32:57] WARNING: not removing hydrogen atom without neighbors\n",
      "RDKit WARNING: [23:32:57] WARNING: not removing hydrogen atom without neighbors\n",
      "RDKit WARNING: [23:32:57] WARNING: not removing hydrogen atom without neighbors\n",
      "RDKit WARNING: [23:32:57] WARNING: not removing hydrogen atom without neighbors\n",
      "RDKit WARNING: [23:32:57] WARNING: not removing hydrogen atom without neighbors\n",
      "RDKit WARNING: [23:32:57] WARNING: not removing hydrogen atom without neighbors\n",
      "RDKit WARNING: [23:32:57] WARNING: not removing hydrogen atom without neighbors\n",
      "RDKit WARNING: [23:32:57] WARNING: not removing hydrogen atom without neighbors\n",
      "RDKit WARNING: [23:32:57] WARNING: not removing hydrogen atom without neighbors\n",
      "RDKit WARNING: [23:32:57] WARNING: not removing hydrogen atom without neighbors\n",
      "RDKit WARNING: [23:32:57] WARNING: not removing hydrogen atom without neighbors\n",
      "  0%|          | 0/12300 [00:00<?, ?it/s]RDKit WARNING: [23:32:59] WARNING: not removing hydrogen atom without neighbors\n",
      "RDKit WARNING: [23:32:59] WARNING: not removing hydrogen atom without neighbors\n",
      "  0%|          | 12/12300 [00:00<01:42, 119.95it/s]RDKit WARNING: [23:32:59] WARNING: not removing hydrogen atom without neighbors\n",
      "RDKit WARNING: [23:32:59] WARNING: not removing hydrogen atom without neighbors\n",
      "  0%|          | 52/12300 [00:00<00:43, 280.63it/s]RDKit WARNING: [23:32:59] WARNING: not removing hydrogen atom without neighbors\n",
      "RDKit WARNING: [23:32:59] WARNING: not removing hydrogen atom without neighbors\n",
      "  6%|▌         | 735/12300 [00:02<00:29, 390.84it/s]RDKit WARNING: [23:33:01] WARNING: not removing hydrogen atom without neighbors\n",
      "RDKit WARNING: [23:33:01] WARNING: not removing hydrogen atom without neighbors\n",
      "  6%|▋         | 775/12300 [00:02<00:30, 383.34it/s]RDKit WARNING: [23:33:01] WARNING: not removing hydrogen atom without neighbors\n",
      "RDKit WARNING: [23:33:01] WARNING: not removing hydrogen atom without neighbors\n",
      "RDKit WARNING: [23:33:01] WARNING: not removing hydrogen atom without neighbors\n",
      "RDKit WARNING: [23:33:01] WARNING: not removing hydrogen atom without neighbors\n",
      "  9%|▊         | 1057/12300 [00:02<00:30, 370.10it/s]RDKit WARNING: [23:33:01] WARNING: not removing hydrogen atom without neighbors\n",
      "RDKit WARNING: [23:33:01] WARNING: not removing hydrogen atom without neighbors\n",
      " 14%|█▍        | 1708/12300 [00:04<00:28, 368.77it/s]RDKit WARNING: [23:33:03] WARNING: not removing hydrogen atom without neighbors\n",
      "RDKit WARNING: [23:33:03] WARNING: not removing hydrogen atom without neighbors\n",
      " 18%|█▊        | 2262/12300 [00:06<00:26, 378.99it/s]RDKit WARNING: [23:33:05] WARNING: not removing hydrogen atom without neighbors\n",
      "RDKit WARNING: [23:33:05] WARNING: not removing hydrogen atom without neighbors\n",
      " 21%|██        | 2573/12300 [00:06<00:27, 357.94it/s]RDKit WARNING: [23:33:06] WARNING: not removing hydrogen atom without neighbors\n",
      "RDKit WARNING: [23:33:06] WARNING: not removing hydrogen atom without neighbors\n",
      " 25%|██▌       | 3128/12300 [00:08<00:23, 386.15it/s]RDKit WARNING: [23:33:07] WARNING: not removing hydrogen atom without neighbors\n",
      "RDKit WARNING: [23:33:07] WARNING: not removing hydrogen atom without neighbors\n",
      "RDKit WARNING: [23:33:07] WARNING: not removing hydrogen atom without neighbors\n",
      "RDKit WARNING: [23:33:07] WARNING: not removing hydrogen atom without neighbors\n",
      "100%|██████████| 12300/12300 [00:42<00:00, 292.61it/s]\n"
     ]
    }
   ],
   "source": [
    "# load X_train and y_train\n",
    "X_train, y_train = featurize('../../Data/Solubility/dataset-HW4.csv',features)"
   ]
  },
  {
   "cell_type": "code",
   "execution_count": 174,
   "metadata": {},
   "outputs": [],
   "source": [
    "from sklearn.ensemble import RandomForestRegressor\n",
    "model = RandomForestRegressor(random_state=0, n_estimators=100)"
   ]
  },
  {
   "cell_type": "code",
   "execution_count": 175,
   "metadata": {},
   "outputs": [
    {
     "data": {
      "text/plain": [
       "RandomForestRegressor(random_state=0)"
      ]
     },
     "execution_count": 175,
     "metadata": {},
     "output_type": "execute_result"
    }
   ],
   "source": [
    "model.fit(X_train,y_train)"
   ]
  },
  {
   "cell_type": "code",
   "execution_count": 176,
   "metadata": {},
   "outputs": [
    {
     "name": "stderr",
     "output_type": "stream",
     "text": [
      "100%|██████████| 1291/1291 [00:03<00:00, 349.19it/s]\n"
     ]
    },
    {
     "data": {
      "text/plain": [
       "0.12318560406996554"
      ]
     },
     "execution_count": 176,
     "metadata": {},
     "output_type": "execute_result"
    }
   ],
   "source": [
    "test(features,model)"
   ]
  },
  {
   "cell_type": "code",
   "execution_count": null,
   "metadata": {},
   "outputs": [],
   "source": []
  },
  {
   "cell_type": "code",
   "execution_count": 156,
   "metadata": {},
   "outputs": [],
   "source": [
    "report('Charm')"
   ]
  },
  {
   "cell_type": "code",
   "execution_count": null,
   "metadata": {},
   "outputs": [],
   "source": []
  }
 ],
 "metadata": {
  "kernelspec": {
   "display_name": "Python 3",
   "language": "python",
   "name": "python3"
  },
  "language_info": {
   "codemirror_mode": {
    "name": "ipython",
    "version": 3
   },
   "file_extension": ".py",
   "mimetype": "text/x-python",
   "name": "python",
   "nbconvert_exporter": "python",
   "pygments_lexer": "ipython3",
   "version": "3.8.6"
  }
 },
 "nbformat": 4,
 "nbformat_minor": 4
}
